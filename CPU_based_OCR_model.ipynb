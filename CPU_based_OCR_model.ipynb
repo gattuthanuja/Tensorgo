{
  "nbformat": 4,
  "nbformat_minor": 0,
  "metadata": {
    "colab": {
      "provenance": []
    },
    "kernelspec": {
      "name": "python3",
      "display_name": "Python 3"
    },
    "language_info": {
      "name": "python"
    }
  },
  "cells": [
    {
      "cell_type": "code",
      "source": [
        "# prompt: mount the google drive\n",
        "\n",
        "from google.colab import drive\n",
        "drive.mount('/content/drive')\n"
      ],
      "metadata": {
        "colab": {
          "base_uri": "https://localhost:8080/"
        },
        "id": "GeQteXC2jTYZ",
        "outputId": "992df45d-ac00-4a39-f075-5576583f32d6"
      },
      "execution_count": 1,
      "outputs": [
        {
          "output_type": "stream",
          "name": "stdout",
          "text": [
            "Mounted at /content/drive\n"
          ]
        }
      ]
    },
    {
      "cell_type": "code",
      "source": [
        "import torch\n",
        "import torch.nn as nn\n",
        "import torch.optim as optim\n",
        "import torch.nn.functional as F\n",
        "from torch.utils.data import DataLoader, Dataset\n",
        "import torchvision.transforms as transforms\n",
        "from torchvision.datasets import MNIST\n",
        "\n",
        "# Define a simple CNN-based OCR model\n",
        "class OCRModel(nn.Module):\n",
        "    def __init__(self, num_classes=10):\n",
        "        super(OCRModel, self).__init__()\n",
        "        self.conv1 = nn.Conv2d(1, 32, kernel_size=3, stride=1, padding=1)\n",
        "        self.conv2 = nn.Conv2d(32, 64, kernel_size=3, stride=1, padding=1)\n",
        "        self.pool = nn.MaxPool2d(kernel_size=2, stride=2, padding=0)\n",
        "        self.fc1 = nn.Linear(64 * 7 * 7, 128)\n",
        "        self.fc2 = nn.Linear(128, num_classes)\n",
        "\n",
        "    def forward(self, x):\n",
        "        x = self.pool(F.relu(self.conv1(x)))\n",
        "        x = self.pool(F.relu(self.conv2(x)))\n",
        "        x = x.view(-1, 64 * 7 * 7)  # Flatten\n",
        "        x = F.relu(self.fc1(x))\n",
        "        x = self.fc2(x)\n",
        "        return x\n",
        "\n",
        "# Check if GPU is available and move the model to GPU\n",
        "device = torch.device(\"cuda\" if torch.cuda.is_available() else \"cpu\")\n",
        "model = OCRModel(num_classes=10).to(device)\n",
        "\n",
        "# Load the dataset (e.g., MNIST for digit recognition)\n",
        "transform = transforms.Compose([transforms.ToTensor(), transforms.Normalize((0.5,), (0.5,))])\n",
        "train_dataset = MNIST(root='./data', train=True, download=True, transform=transform)\n",
        "train_loader = DataLoader(dataset=train_dataset, batch_size=64, shuffle=True)\n",
        "\n",
        "# Define the loss function and optimizer\n",
        "criterion = nn.CrossEntropyLoss()\n",
        "optimizer = optim.Adam(model.parameters(), lr=0.001)\n",
        "\n",
        "# Training the model on GPU\n",
        "num_epochs = 5\n",
        "for epoch in range(num_epochs):\n",
        "    model.train()\n",
        "    running_loss = 0.0\n",
        "    for images, labels in train_loader:\n",
        "        images, labels = images.to(device), labels.to(device)\n",
        "\n",
        "        # Zero the parameter gradients\n",
        "        optimizer.zero_grad()\n",
        "\n",
        "        # Forward pass\n",
        "        outputs = model(images)\n",
        "        loss = criterion(outputs, labels)\n",
        "\n",
        "        # Backward pass and optimize\n",
        "        loss.backward()\n",
        "        optimizer.step()\n",
        "\n",
        "        running_loss += loss.item()\n",
        "\n",
        "    print(f\"Epoch [{epoch+1}/{num_epochs}], Loss: {running_loss/len(train_loader):.4f}\")\n",
        "\n",
        "print(\"Finished Training\")\n",
        "\n",
        "# Save the trained model\n",
        "torch.save(model.state_dict(), \"gpu_ocr_model.pth\")\n"
      ],
      "metadata": {
        "colab": {
          "base_uri": "https://localhost:8080/"
        },
        "id": "s4prYjTujsra",
        "outputId": "8f61efd9-9c26-4b58-fddf-aba23f8a3674"
      },
      "execution_count": 3,
      "outputs": [
        {
          "output_type": "stream",
          "name": "stdout",
          "text": [
            "Epoch [1/5], Loss: 0.1455\n",
            "Epoch [2/5], Loss: 0.0437\n",
            "Epoch [3/5], Loss: 0.0293\n",
            "Epoch [4/5], Loss: 0.0211\n",
            "Epoch [5/5], Loss: 0.0169\n",
            "Finished Training\n"
          ]
        }
      ]
    },
    {
      "cell_type": "code",
      "source": [
        "# prompt: display the above gpu model\n",
        "\n",
        "print(model)\n"
      ],
      "metadata": {
        "colab": {
          "base_uri": "https://localhost:8080/"
        },
        "id": "ec8TqQmTnOuJ",
        "outputId": "b9e09a38-440b-4602-e495-0ad20d20a1a7"
      },
      "execution_count": 4,
      "outputs": [
        {
          "output_type": "stream",
          "name": "stdout",
          "text": [
            "OCRModel(\n",
            "  (conv1): Conv2d(1, 32, kernel_size=(3, 3), stride=(1, 1), padding=(1, 1))\n",
            "  (conv2): Conv2d(32, 64, kernel_size=(3, 3), stride=(1, 1), padding=(1, 1))\n",
            "  (pool): MaxPool2d(kernel_size=2, stride=2, padding=0, dilation=1, ceil_mode=False)\n",
            "  (fc1): Linear(in_features=3136, out_features=128, bias=True)\n",
            "  (fc2): Linear(in_features=128, out_features=10, bias=True)\n",
            ")\n"
          ]
        }
      ]
    },
    {
      "cell_type": "code",
      "source": [
        "# prompt: save and display the above gpu based ocr model\n",
        "\n",
        "from google.colab import files\n",
        "files.download('gpu_ocr_model.pth')\n",
        "\n",
        "!ls -l gpu_ocr_model.pth\n"
      ],
      "metadata": {
        "colab": {
          "base_uri": "https://localhost:8080/",
          "height": 34
        },
        "id": "90P_MSP1nWuc",
        "outputId": "e81e467d-98b7-46f9-fa3c-198778010ac8"
      },
      "execution_count": 5,
      "outputs": [
        {
          "output_type": "display_data",
          "data": {
            "text/plain": [
              "<IPython.core.display.Javascript object>"
            ],
            "application/javascript": [
              "\n",
              "    async function download(id, filename, size) {\n",
              "      if (!google.colab.kernel.accessAllowed) {\n",
              "        return;\n",
              "      }\n",
              "      const div = document.createElement('div');\n",
              "      const label = document.createElement('label');\n",
              "      label.textContent = `Downloading \"${filename}\": `;\n",
              "      div.appendChild(label);\n",
              "      const progress = document.createElement('progress');\n",
              "      progress.max = size;\n",
              "      div.appendChild(progress);\n",
              "      document.body.appendChild(div);\n",
              "\n",
              "      const buffers = [];\n",
              "      let downloaded = 0;\n",
              "\n",
              "      const channel = await google.colab.kernel.comms.open(id);\n",
              "      // Send a message to notify the kernel that we're ready.\n",
              "      channel.send({})\n",
              "\n",
              "      for await (const message of channel.messages) {\n",
              "        // Send a message to notify the kernel that we're ready.\n",
              "        channel.send({})\n",
              "        if (message.buffers) {\n",
              "          for (const buffer of message.buffers) {\n",
              "            buffers.push(buffer);\n",
              "            downloaded += buffer.byteLength;\n",
              "            progress.value = downloaded;\n",
              "          }\n",
              "        }\n",
              "      }\n",
              "      const blob = new Blob(buffers, {type: 'application/binary'});\n",
              "      const a = document.createElement('a');\n",
              "      a.href = window.URL.createObjectURL(blob);\n",
              "      a.download = filename;\n",
              "      div.appendChild(a);\n",
              "      a.click();\n",
              "      div.remove();\n",
              "    }\n",
              "  "
            ]
          },
          "metadata": {}
        },
        {
          "output_type": "display_data",
          "data": {
            "text/plain": [
              "<IPython.core.display.Javascript object>"
            ],
            "application/javascript": [
              "download(\"download_1389a230-978e-4a50-8541-dd9c5db87fac\", \"gpu_ocr_model.pth\", 1689800)"
            ]
          },
          "metadata": {}
        },
        {
          "output_type": "stream",
          "name": "stdout",
          "text": [
            "-rw-r--r-- 1 root root 1689800 Aug 22 08:43 gpu_ocr_model.pth\n"
          ]
        }
      ]
    },
    {
      "cell_type": "markdown",
      "source": [
        "**GPU model**"
      ],
      "metadata": {
        "id": "0gRHvQLrQln0"
      }
    },
    {
      "cell_type": "code",
      "source": [
        "import torch\n",
        "import torch.nn as nn\n",
        "\n",
        "# Load the GPU-based OCR model\n",
        "gpu_model = torch.load('gpu_ocr_model.pth')\n",
        "\n",
        "# Print the model architecture\n",
        "print(gpu_model)"
      ],
      "metadata": {
        "colab": {
          "base_uri": "https://localhost:8080/"
        },
        "id": "yz9l39GWoH-K",
        "outputId": "8dfd987b-de1d-48db-c395-f12ec55ef7d3"
      },
      "execution_count": 6,
      "outputs": [
        {
          "output_type": "stream",
          "name": "stdout",
          "text": [
            "OrderedDict([('conv1.weight', tensor([[[[ 0.3372,  0.3119,  0.0180],\n",
            "          [-0.1660, -0.1380,  0.2590],\n",
            "          [ 0.1711, -0.5387, -0.2369]]],\n",
            "\n",
            "\n",
            "        [[[-0.2751, -0.4393,  0.3738],\n",
            "          [ 0.0732,  0.3596,  0.2428],\n",
            "          [ 0.2679,  0.1625, -0.5054]]],\n",
            "\n",
            "\n",
            "        [[[ 0.0044, -0.1864, -0.2900],\n",
            "          [ 0.3681, -0.2969,  0.3808],\n",
            "          [-0.0510, -0.0621,  0.2390]]],\n",
            "\n",
            "\n",
            "        [[[ 0.2017,  0.0231,  0.4558],\n",
            "          [-0.1489,  0.0068,  0.0581],\n",
            "          [-0.3396, -0.2938,  0.0102]]],\n",
            "\n",
            "\n",
            "        [[[ 0.2229, -0.3132, -0.2596],\n",
            "          [ 0.0990,  0.3501, -0.3738],\n",
            "          [ 0.2514,  0.0264,  0.3357]]],\n",
            "\n",
            "\n",
            "        [[[ 0.4080, -0.0755, -0.3025],\n",
            "          [ 0.1373,  0.1979, -0.5023],\n",
            "          [ 0.3335,  0.0929, -0.0353]]],\n",
            "\n",
            "\n",
            "        [[[-0.1383, -0.3419,  0.0686],\n",
            "          [ 0.4680, -0.2743,  0.0695],\n",
            "          [ 0.0927, -0.0353, -0.0878]]],\n",
            "\n",
            "\n",
            "        [[[-0.5296, -0.3235,  0.3531],\n",
            "          [ 0.3304,  0.4664,  0.0757],\n",
            "          [ 0.0048,  0.0804, -0.1977]]],\n",
            "\n",
            "\n",
            "        [[[-0.2434, -0.0633, -0.0409],\n",
            "          [-0.0207, -0.1566, -0.0563],\n",
            "          [-0.2786, -0.2305, -0.1676]]],\n",
            "\n",
            "\n",
            "        [[[-0.0125, -0.2779, -0.2898],\n",
            "          [-0.2408,  0.1766, -0.2683],\n",
            "          [ 0.4158,  0.3346,  0.0162]]],\n",
            "\n",
            "\n",
            "        [[[-0.2637, -0.2244, -0.0020],\n",
            "          [-0.2074, -0.0546, -0.3121],\n",
            "          [-0.1049, -0.1226,  0.1450]]],\n",
            "\n",
            "\n",
            "        [[[-0.0796,  0.4652, -0.0768],\n",
            "          [ 0.1885,  0.1933, -0.4770],\n",
            "          [ 0.0775, -0.2194,  0.1167]]],\n",
            "\n",
            "\n",
            "        [[[ 0.2601, -0.0254,  0.0729],\n",
            "          [ 0.3615,  0.3383, -0.0888],\n",
            "          [ 0.1024, -0.4484, -0.5075]]],\n",
            "\n",
            "\n",
            "        [[[-0.3033,  0.2894,  0.2214],\n",
            "          [-0.3111,  0.3805, -0.1004],\n",
            "          [ 0.0768,  0.2732,  0.0959]]],\n",
            "\n",
            "\n",
            "        [[[ 0.2620, -0.0097,  0.2293],\n",
            "          [-0.3708,  0.0800,  0.2746],\n",
            "          [-0.2706, -0.2114,  0.2711]]],\n",
            "\n",
            "\n",
            "        [[[-0.2611, -0.3136, -0.0117],\n",
            "          [-0.4022, -0.0334,  0.5074],\n",
            "          [ 0.0584,  0.4457,  0.2230]]],\n",
            "\n",
            "\n",
            "        [[[ 0.3204,  0.0412,  0.3416],\n",
            "          [ 0.0016,  0.3313,  0.1292],\n",
            "          [-0.2014, -0.2509, -0.2520]]],\n",
            "\n",
            "\n",
            "        [[[ 0.4815,  0.1680, -0.2846],\n",
            "          [-0.2430, -0.4683,  0.0057],\n",
            "          [ 0.2770, -0.1980,  0.2124]]],\n",
            "\n",
            "\n",
            "        [[[ 0.4438,  0.3257,  0.2462],\n",
            "          [-0.2156, -0.0593, -0.1523],\n",
            "          [-0.3316, -0.2493, -0.3181]]],\n",
            "\n",
            "\n",
            "        [[[ 0.3874, -0.1856,  0.1572],\n",
            "          [-0.2266,  0.1256, -0.2858],\n",
            "          [-0.1144, -0.2520,  0.0031]]],\n",
            "\n",
            "\n",
            "        [[[ 0.0662, -0.2211, -0.0705],\n",
            "          [-0.3584, -0.1154, -0.3144],\n",
            "          [-0.0300, -0.0358, -0.2562]]],\n",
            "\n",
            "\n",
            "        [[[ 0.4549, -0.2886, -0.4018],\n",
            "          [ 0.2753,  0.2114,  0.1035],\n",
            "          [-0.1383,  0.1411,  0.2594]]],\n",
            "\n",
            "\n",
            "        [[[-0.2016, -0.4196, -0.0713],\n",
            "          [-0.1873,  0.1711, -0.2145],\n",
            "          [ 0.3469,  0.1372,  0.2251]]],\n",
            "\n",
            "\n",
            "        [[[-0.1159, -0.3576,  0.2660],\n",
            "          [-0.0352, -0.1411,  0.0303],\n",
            "          [ 0.1908,  0.2141,  0.0452]]],\n",
            "\n",
            "\n",
            "        [[[ 0.1984,  0.3494,  0.0999],\n",
            "          [ 0.0691,  0.3518,  0.4759],\n",
            "          [-0.1022, -0.1233,  0.4189]]],\n",
            "\n",
            "\n",
            "        [[[ 0.1856, -0.4092, -0.2094],\n",
            "          [ 0.2864, -0.2951, -0.0979],\n",
            "          [ 0.3846,  0.2331,  0.2144]]],\n",
            "\n",
            "\n",
            "        [[[-0.2590,  0.3827,  0.2254],\n",
            "          [-0.3745,  0.4434, -0.0321],\n",
            "          [ 0.0679,  0.3111,  0.0577]]],\n",
            "\n",
            "\n",
            "        [[[ 0.4045,  0.3165,  0.0156],\n",
            "          [-0.1335, -0.2665,  0.0393],\n",
            "          [-0.3077,  0.0234, -0.0825]]],\n",
            "\n",
            "\n",
            "        [[[ 0.2088, -0.2166, -0.4694],\n",
            "          [ 0.1724,  0.3522, -0.3248],\n",
            "          [ 0.1704,  0.2033,  0.1872]]],\n",
            "\n",
            "\n",
            "        [[[ 0.0601, -0.5605, -0.2525],\n",
            "          [ 0.0839,  0.2329,  0.1267],\n",
            "          [ 0.0598,  0.2603,  0.1417]]],\n",
            "\n",
            "\n",
            "        [[[-0.3853,  0.0592,  0.1773],\n",
            "          [-0.2657, -0.1476,  0.4341],\n",
            "          [-0.0390,  0.0621,  0.2660]]],\n",
            "\n",
            "\n",
            "        [[[ 0.2090,  0.3761,  0.0492],\n",
            "          [-0.2809,  0.1193,  0.4421],\n",
            "          [-0.3622, -0.2436, -0.3425]]]])), ('conv1.bias', tensor([-0.0515, -0.0522,  0.0656, -0.0010,  0.0527, -0.2029, -0.0714, -0.1389,\n",
            "        -0.2130, -0.1770, -0.3002,  0.1052,  0.1801,  0.1957, -0.0360, -0.2515,\n",
            "        -0.0588, -0.2204,  0.0174, -0.1703, -0.3727, -0.1203, -0.0861, -0.0450,\n",
            "        -0.1490,  0.1276,  0.2217, -0.0253, -0.0360, -0.0818,  0.0033, -0.1031])), ('conv2.weight', tensor([[[[ 0.0304, -0.1207, -0.1527],\n",
            "          [-0.2307, -0.1147, -0.1069],\n",
            "          [ 0.1324,  0.2270,  0.1942]],\n",
            "\n",
            "         [[ 0.0414, -0.2423, -0.2173],\n",
            "          [ 0.0053,  0.1216,  0.0235],\n",
            "          [ 0.1447, -0.0138, -0.0280]],\n",
            "\n",
            "         [[-0.0728, -0.1036, -0.1215],\n",
            "          [ 0.0271,  0.0644,  0.1063],\n",
            "          [ 0.0132, -0.0785,  0.0010]],\n",
            "\n",
            "         ...,\n",
            "\n",
            "         [[-0.1847, -0.0561, -0.0295],\n",
            "          [ 0.0979,  0.0940,  0.1122],\n",
            "          [ 0.0878, -0.0689, -0.0759]],\n",
            "\n",
            "         [[ 0.0223, -0.1397, -0.1061],\n",
            "          [-0.0896, -0.0348, -0.0279],\n",
            "          [-0.0469, -0.0956, -0.0414]],\n",
            "\n",
            "         [[-0.3131, -0.1919, -0.1283],\n",
            "          [-0.1837,  0.1239,  0.1159],\n",
            "          [ 0.2133,  0.2635,  0.2407]]],\n",
            "\n",
            "\n",
            "        [[[-0.0800, -0.0983, -0.1697],\n",
            "          [-0.0380, -0.0620, -0.0291],\n",
            "          [ 0.0062,  0.1033, -0.0988]],\n",
            "\n",
            "         [[-0.1113, -0.1559, -0.0723],\n",
            "          [-0.0067, -0.0193, -0.1696],\n",
            "          [-0.0628, -0.2225, -0.1081]],\n",
            "\n",
            "         [[-0.0738, -0.0212, -0.1424],\n",
            "          [ 0.0902,  0.0684, -0.0659],\n",
            "          [-0.0864,  0.0309,  0.0688]],\n",
            "\n",
            "         ...,\n",
            "\n",
            "         [[ 0.0667, -0.1399, -0.0699],\n",
            "          [ 0.1189,  0.1021, -0.1721],\n",
            "          [-0.1456,  0.0397,  0.0582]],\n",
            "\n",
            "         [[-0.1292, -0.0959, -0.0779],\n",
            "          [-0.0162, -0.1153, -0.0916],\n",
            "          [ 0.0403, -0.0058, -0.0570]],\n",
            "\n",
            "         [[-0.0162, -0.1049, -0.1586],\n",
            "          [ 0.0564, -0.0907, -0.0608],\n",
            "          [ 0.1874,  0.1458, -0.0356]]],\n",
            "\n",
            "\n",
            "        [[[-0.0573, -0.0979,  0.0878],\n",
            "          [-0.1577, -0.0042,  0.1294],\n",
            "          [-0.0474,  0.1506,  0.0863]],\n",
            "\n",
            "         [[ 0.0640,  0.0680,  0.1806],\n",
            "          [ 0.1386,  0.0728,  0.1130],\n",
            "          [ 0.0091, -0.0457, -0.0257]],\n",
            "\n",
            "         [[ 0.0426, -0.0479, -0.0043],\n",
            "          [ 0.0679, -0.0325, -0.0984],\n",
            "          [ 0.0159,  0.0256, -0.0580]],\n",
            "\n",
            "         ...,\n",
            "\n",
            "         [[ 0.0178,  0.0669, -0.0201],\n",
            "          [ 0.0286, -0.0431, -0.1498],\n",
            "          [-0.0397, -0.1697,  0.0450]],\n",
            "\n",
            "         [[ 0.0262,  0.0160,  0.0970],\n",
            "          [-0.0007,  0.0328, -0.1938],\n",
            "          [ 0.0233,  0.0065, -0.1328]],\n",
            "\n",
            "         [[-0.1219, -0.1511, -0.0270],\n",
            "          [-0.1399, -0.1210,  0.0071],\n",
            "          [-0.0353,  0.0509,  0.1074]]],\n",
            "\n",
            "\n",
            "        ...,\n",
            "\n",
            "\n",
            "        [[[ 0.0198, -0.0026, -0.0852],\n",
            "          [-0.0662,  0.0357, -0.0366],\n",
            "          [ 0.0101, -0.0642,  0.0397]],\n",
            "\n",
            "         [[-0.0502, -0.0236,  0.1343],\n",
            "          [ 0.0187, -0.0893, -0.0682],\n",
            "          [-0.1035, -0.0225, -0.0754]],\n",
            "\n",
            "         [[ 0.0277,  0.0137,  0.0851],\n",
            "          [-0.0734,  0.1020,  0.0481],\n",
            "          [-0.0233,  0.0254,  0.0552]],\n",
            "\n",
            "         ...,\n",
            "\n",
            "         [[-0.0958, -0.2201, -0.0124],\n",
            "          [-0.1675, -0.1715, -0.0919],\n",
            "          [-0.0257,  0.0014, -0.0407]],\n",
            "\n",
            "         [[ 0.0567,  0.0405,  0.0635],\n",
            "          [ 0.1130,  0.0937,  0.1275],\n",
            "          [-0.0626,  0.0784,  0.0893]],\n",
            "\n",
            "         [[-0.0560, -0.1826, -0.1429],\n",
            "          [-0.1600, -0.1818, -0.0972],\n",
            "          [-0.1178, -0.1220,  0.0086]]],\n",
            "\n",
            "\n",
            "        [[[-0.1315, -0.0543,  0.0317],\n",
            "          [-0.1746,  0.0281, -0.0036],\n",
            "          [ 0.0090,  0.1080,  0.0133]],\n",
            "\n",
            "         [[ 0.1092, -0.0017,  0.0500],\n",
            "          [ 0.1725,  0.0994, -0.0087],\n",
            "          [ 0.0761, -0.0472, -0.1869]],\n",
            "\n",
            "         [[ 0.0430,  0.0298, -0.0795],\n",
            "          [ 0.0765, -0.1789, -0.0960],\n",
            "          [-0.0871, -0.1240, -0.0687]],\n",
            "\n",
            "         ...,\n",
            "\n",
            "         [[-0.1050,  0.0502, -0.0429],\n",
            "          [-0.0276, -0.0682, -0.0857],\n",
            "          [-0.1005, -0.0419,  0.0056]],\n",
            "\n",
            "         [[ 0.0452,  0.0309, -0.0786],\n",
            "          [ 0.0245,  0.0098, -0.2079],\n",
            "          [-0.0705, -0.1198, -0.1550]],\n",
            "\n",
            "         [[-0.0676, -0.0703, -0.0487],\n",
            "          [-0.2433, -0.1326,  0.0702],\n",
            "          [-0.0395,  0.0236, -0.0226]]],\n",
            "\n",
            "\n",
            "        [[[-0.1391, -0.1754, -0.0338],\n",
            "          [-0.0468,  0.0372,  0.0362],\n",
            "          [ 0.0319,  0.0583, -0.0182]],\n",
            "\n",
            "         [[ 0.0322,  0.0604,  0.0054],\n",
            "          [-0.0114,  0.0141,  0.0981],\n",
            "          [-0.0940, -0.1820, -0.0893]],\n",
            "\n",
            "         [[ 0.0992,  0.0664,  0.0165],\n",
            "          [ 0.0173,  0.0346, -0.0964],\n",
            "          [-0.1989, -0.0483, -0.0116]],\n",
            "\n",
            "         ...,\n",
            "\n",
            "         [[ 0.0762,  0.0821,  0.0631],\n",
            "          [ 0.1495,  0.0385, -0.0515],\n",
            "          [-0.1246, -0.1162, -0.0433]],\n",
            "\n",
            "         [[-0.0160,  0.1245,  0.0775],\n",
            "          [-0.1202, -0.1138, -0.0805],\n",
            "          [-0.1105, -0.1422, -0.0064]],\n",
            "\n",
            "         [[-0.2029, -0.0814, -0.0705],\n",
            "          [ 0.0741,  0.1023,  0.0736],\n",
            "          [ 0.1130,  0.1398, -0.0171]]]])), ('conv2.bias', tensor([-0.0148, -0.0729,  0.0247,  0.0196, -0.0522, -0.0263, -0.0046, -0.0310,\n",
            "         0.0240, -0.0821, -0.0277, -0.0483, -0.0737, -0.0195, -0.0519, -0.0144,\n",
            "        -0.0145, -0.0534, -0.1034, -0.1162, -0.0746,  0.0143, -0.0153, -0.0564,\n",
            "        -0.0211, -0.0501, -0.0267, -0.0645,  0.0175, -0.0305, -0.0227, -0.0136,\n",
            "        -0.0741, -0.0379, -0.0459, -0.0803, -0.0088, -0.0263,  0.0063,  0.0492,\n",
            "        -0.0281, -0.0055, -0.0524, -0.0535, -0.0651, -0.0160, -0.0850,  0.0084,\n",
            "         0.0436,  0.0127, -0.0770, -0.0189, -0.0779, -0.0417, -0.0983, -0.0729,\n",
            "        -0.0433,  0.0114, -0.0513, -0.0035, -0.0811, -0.0665, -0.0401,  0.0020])), ('fc1.weight', tensor([[-0.0019, -0.0097,  0.0006,  ..., -0.0009,  0.0022, -0.0190],\n",
            "        [ 0.0516, -0.0138, -0.0848,  ...,  0.0716,  0.0939,  0.0135],\n",
            "        [-0.0022, -0.0384,  0.0009,  ...,  0.0037,  0.0224, -0.0123],\n",
            "        ...,\n",
            "        [-0.0058, -0.0108,  0.0161,  ...,  0.0074, -0.0178,  0.0045],\n",
            "        [ 0.0152, -0.0253, -0.0009,  ..., -0.0314,  0.0238,  0.0050],\n",
            "        [ 0.0175, -0.0017,  0.0040,  ..., -0.0188, -0.0105,  0.0020]])), ('fc1.bias', tensor([-0.0200, -0.0309, -0.0055,  0.0008, -0.0249,  0.0056,  0.0342,  0.0485,\n",
            "         0.0063,  0.0138, -0.0192,  0.0464, -0.0403,  0.0022,  0.0084,  0.0038,\n",
            "        -0.0111, -0.0387, -0.0215, -0.0170,  0.0424, -0.0029, -0.0030,  0.0089,\n",
            "        -0.0039,  0.0082,  0.0233,  0.0116,  0.0005, -0.0061, -0.0071,  0.0462,\n",
            "        -0.0425,  0.0360,  0.0373, -0.0038, -0.0264, -0.0477,  0.0275,  0.0184,\n",
            "         0.0417, -0.0177, -0.0104, -0.0098,  0.0079, -0.0572, -0.0289, -0.0195,\n",
            "         0.0081, -0.0277, -0.0160,  0.0033,  0.0012, -0.0067, -0.0419, -0.0005,\n",
            "         0.0347, -0.0407, -0.0051,  0.0008, -0.0691, -0.0326, -0.0496,  0.0083,\n",
            "         0.0126, -0.0037,  0.0401, -0.0078,  0.0031, -0.0142, -0.0013, -0.0004,\n",
            "        -0.0203, -0.0128,  0.0012, -0.0160,  0.0297,  0.0424, -0.0087, -0.0451,\n",
            "         0.0289, -0.0012,  0.0109,  0.0043, -0.0132, -0.0173, -0.0193,  0.0115,\n",
            "        -0.0378,  0.0343,  0.0103, -0.0298, -0.0100, -0.0122, -0.0233, -0.0318,\n",
            "         0.0301,  0.0405,  0.0071,  0.0053, -0.0005, -0.0200, -0.0109, -0.0290,\n",
            "        -0.0110,  0.0159, -0.0043, -0.0044, -0.0634,  0.0145,  0.0100,  0.0079,\n",
            "        -0.0028,  0.0496,  0.0268,  0.0023, -0.0102, -0.0119, -0.0731, -0.0200,\n",
            "         0.0041, -0.0426,  0.0173, -0.0381,  0.0031, -0.0023,  0.0024, -0.0192])), ('fc2.weight', tensor([[ 8.2239e-02, -2.8889e-02,  9.5703e-02,  ...,  5.3039e-02,\n",
            "         -8.3576e-05, -3.1050e-02],\n",
            "        [ 5.7370e-03,  2.3237e-02, -1.2661e-01,  ..., -9.2632e-02,\n",
            "          6.2124e-02, -8.2206e-02],\n",
            "        [ 2.2531e-02, -1.8343e-02, -1.2499e-02,  ...,  2.7095e-02,\n",
            "          5.8509e-02,  5.2402e-03],\n",
            "        ...,\n",
            "        [ 4.8624e-02, -1.3875e-01, -3.5268e-02,  ..., -8.9742e-02,\n",
            "          1.0719e-01,  3.3517e-02],\n",
            "        [-2.7424e-03,  8.9896e-02,  8.5935e-02,  ..., -7.3799e-02,\n",
            "          8.0895e-02, -9.7650e-03],\n",
            "        [ 9.9197e-03,  1.2670e-01, -1.7382e-02,  ...,  1.1987e-02,\n",
            "          8.6567e-02, -5.7185e-02]])), ('fc2.bias', tensor([ 0.0117,  0.0249, -0.0303,  0.0764, -0.0498, -0.0760, -0.0064, -0.0189,\n",
            "        -0.0180,  0.0546]))])\n"
          ]
        }
      ]
    },
    {
      "cell_type": "markdown",
      "source": [
        "**Model Conversion**"
      ],
      "metadata": {
        "id": "otqHg_X-QcuU"
      }
    },
    {
      "cell_type": "code",
      "source": [
        "# prompt: convert the gpu-based ocr above model to run on cpu\n",
        "\n",
        "cpu_model = OCRModel(num_classes=10)  # Create a new model instance on CPU\n",
        "cpu_model.load_state_dict(gpu_model)  # Load the state dictionary from the GPU model\n",
        "cpu_model.eval()  # Set the model to evaluation mode\n",
        "print(cpu_model)"
      ],
      "metadata": {
        "colab": {
          "base_uri": "https://localhost:8080/"
        },
        "id": "P35l05hpQwnG",
        "outputId": "113cd778-a172-4776-cefc-08fed762c115"
      },
      "execution_count": 73,
      "outputs": [
        {
          "output_type": "stream",
          "name": "stdout",
          "text": [
            "OCRModel(\n",
            "  (conv1): Conv2d(1, 32, kernel_size=(3, 3), stride=(1, 1), padding=(1, 1))\n",
            "  (conv2): Conv2d(32, 64, kernel_size=(3, 3), stride=(1, 1), padding=(1, 1))\n",
            "  (pool): MaxPool2d(kernel_size=2, stride=2, padding=0, dilation=1, ceil_mode=False)\n",
            "  (fc1): Linear(in_features=3136, out_features=128, bias=True)\n",
            "  (fc2): Linear(in_features=128, out_features=10, bias=True)\n",
            ")\n"
          ]
        }
      ]
    },
    {
      "cell_type": "code",
      "source": [
        "# prompt: display the accuracy and Frames per second in both GPU based ocr model and cpu based ocr model\n",
        "\n",
        "import time\n",
        "\n",
        "# Evaluate GPU model\n",
        "start_time = time.time()\n",
        "correct_gpu = 0\n",
        "total_gpu = 0\n",
        "with torch.no_grad():\n",
        "    for images, labels in train_loader:\n",
        "        images, labels = images.to(device), labels.to(device)\n",
        "        outputs = model(images)\n",
        "        _, predicted = torch.max(outputs.data, 1)\n",
        "        total_gpu += labels.size(0)\n",
        "        correct_gpu += (predicted == labels).sum().item()\n",
        "\n",
        "accuracy_gpu = 100 * correct_gpu / total_gpu\n",
        "end_time = time.time()\n",
        "fps_gpu = len(train_loader.dataset) / (end_time - start_time)\n",
        "\n",
        "print('Accuracy of the GPU-based OCR model on the test images: {} %'.format(accuracy_gpu))\n",
        "print('Frames per second (GPU): {:.2f}'.format(fps_gpu))\n",
        "\n",
        "# Evaluate CPU model\n",
        "start_time = time.time()\n",
        "correct_cpu = 0\n",
        "total_cpu = 0\n",
        "with torch.no_grad():\n",
        "    for images, labels in train_loader:\n",
        "        outputs = cpu_model(images)\n",
        "        _, predicted = torch.max(outputs.data, 1)\n",
        "        total_cpu += labels.size(0)\n",
        "        correct_cpu += (predicted == labels).sum().item()\n",
        "\n",
        "accuracy_cpu = 100 * correct_cpu / total_cpu\n",
        "end_time = time.time()\n",
        "fps_cpu = len(train_loader.dataset) / (end_time - start_time)\n",
        "\n",
        "print('Accuracy of the CPU-based OCR model on the test images: {} %'.format(accuracy_cpu))\n",
        "print('Frames per second (CPU): {:.2f}'.format(fps_cpu))\n"
      ],
      "metadata": {
        "colab": {
          "base_uri": "https://localhost:8080/"
        },
        "id": "3PgK0sTlRXX9",
        "outputId": "7df2c92c-ad58-4377-9da5-d7a79860b2db"
      },
      "execution_count": 10,
      "outputs": [
        {
          "output_type": "stream",
          "name": "stdout",
          "text": [
            "Accuracy of the GPU-based OCR model on the test images: 99.52666666666667 %\n",
            "Frames per second (GPU): 1305.56\n",
            "Accuracy of the CPU-based OCR model on the test images: 99.52666666666667 %\n",
            "Frames per second (CPU): 1321.71\n"
          ]
        }
      ]
    },
    {
      "cell_type": "markdown",
      "source": [
        "**performance comparsion**\n"
      ],
      "metadata": {
        "id": "ANGGShNATQ9d"
      }
    },
    {
      "cell_type": "code",
      "source": [
        "# prompt: compare the GPU and CPU versions,accuracy, speed, processing time and resource utilization\n",
        "\n",
        "import psutil\n",
        "\n",
        "\n",
        "# **Performance Comparison**\n",
        "\n",
        "print(\"\\nPerformance Comparison:\")\n",
        "print(\"---------------------\")\n",
        "print(f\"GPU Accuracy: {accuracy_gpu:.2f}%\")\n",
        "print(f\"CPU Accuracy: {accuracy_cpu:.2f}%\")\n",
        "print(f\"GPU Speed (FPS): {fps_gpu:.2f}\")\n",
        "print(f\"CPU Speed (FPS): {fps_cpu:.2f}\")\n",
        "\n",
        "# Resource Utilization\n",
        "gpu_memory_used = torch.cuda.memory_allocated(device) / (1024 ** 2)  # In MB\n",
        "cpu_percent = psutil.cpu_percent()\n",
        "cpu_memory_percent = psutil.virtual_memory().percent\n",
        "\n",
        "print(f\"GPU Memory Used: {gpu_memory_used:.2f} MB\")\n",
        "print(f\"CPU Utilization: {cpu_percent}%\")\n",
        "print(f\"CPU Memory Used: {cpu_memory_percent}%\")\n"
      ],
      "metadata": {
        "colab": {
          "base_uri": "https://localhost:8080/"
        },
        "id": "F9_vqNkvTXtP",
        "outputId": "318b4aad-ef2d-4647-8108-da8a1bfebd49"
      },
      "execution_count": 62,
      "outputs": [
        {
          "output_type": "stream",
          "name": "stdout",
          "text": [
            "\n",
            "Performance Comparison:\n",
            "---------------------\n",
            "GPU Accuracy: 99.53%\n",
            "CPU Accuracy: 99.53%\n",
            "GPU Speed (FPS): 1279.62\n",
            "CPU Speed (FPS): 1058.17\n",
            "GPU Memory Used: 0.00 MB\n",
            "CPU Utilization: 40.0%\n",
            "CPU Memory Used: 26.0%\n"
          ]
        }
      ]
    },
    {
      "cell_type": "code",
      "source": [
        "# prompt: display the above all in graphs\n",
        "\n",
        "import matplotlib.pyplot as plt\n",
        "\n",
        "# Accuracy Comparison\n",
        "plt.figure(figsize=(5, 6))\n",
        "plt.bar([\"GPU\", \"CPU\"], [accuracy_gpu, accuracy_cpu], color=['blue', 'orange'])\n",
        "plt.xlabel(\"Device\")\n",
        "plt.ylabel(\"Accuracy (%)\")\n",
        "plt.title(\"Accuracy Comparison: GPU vs CPU\")\n",
        "plt.ylim(90, 100)  # Adjust y-axis limits as needed\n",
        "plt.show()\n",
        "\n",
        "# Speed (FPS) Comparison\n",
        "plt.figure(figsize=(5, 6))\n",
        "plt.bar([\"GPU\", \"CPU\"], [fps_gpu, fps_cpu], color=['green', 'red'])\n",
        "plt.xlabel(\"Device\")\n",
        "plt.ylabel(\"Frames per Second (FPS)\")\n",
        "plt.title(\"Speed Comparison: GPU vs CPU\")\n",
        "plt.show()\n",
        "\n",
        "# Memory Usage Comparison\n",
        "plt.figure(figsize=(5, 6))\n",
        "plt.bar([\"GPU\", \"CPU\"], [gpu_memory, cpu_memory], color=['purple', 'brown'])\n",
        "plt.xlabel(\"Device\")\n",
        "plt.ylabel(\"Memory Usage (MB)\")\n",
        "plt.title(\"Memory Usage Comparison: GPU vs CPU\")\n",
        "plt.show()\n"
      ],
      "metadata": {
        "colab": {
          "base_uri": "https://localhost:8080/",
          "height": 1000
        },
        "id": "Kj5oMgrmVWXT",
        "outputId": "ef23b0ff-5661-4be4-fa8d-4f286cf6798b"
      },
      "execution_count": 22,
      "outputs": [
        {
          "output_type": "display_data",
          "data": {
            "text/plain": [
              "<Figure size 500x600 with 1 Axes>"
            ],
            "image/png": "[encoded data removed]"
          },
          "metadata": {}
        },
        {
          "output_type": "display_data",
          "data": {
            "text/plain": [
              "<Figure size 500x600 with 1 Axes>"
            ],
            "image/png": "[encoded data removed]"
          },
          "metadata": {}
        },
        {
          "output_type": "display_data",
          "data": {
            "text/plain": [
              "<Figure size 500x600 with 1 Axes>"
            ],
            "image/png": "[encoded data removed]"
          },
          "metadata": {}
        }
      ]
    },
    {
      "cell_type": "code",
      "source": [
        "# prompt: display the GPU and CPU processing time in both models\n",
        "\n",
        "# Evaluate GPU model\n",
        "start_time_gpu = time.time()\n",
        "correct_gpu = 0\n",
        "total_gpu = 0\n",
        "with torch.no_grad():\n",
        "    for images, labels in train_loader:\n",
        "        images, labels = images.to(device), labels.to(device)\n",
        "        outputs = model(images)\n",
        "        _, predicted = torch.max(outputs.data, 1)\n",
        "        total_gpu += labels.size(0)\n",
        "        correct_gpu += (predicted == labels).sum().item()\n",
        "\n",
        "accuracy_gpu = 100 * correct_gpu / total_gpu\n",
        "end_time_gpu = time.time()\n",
        "fps_gpu = len(train_loader.dataset) / (end_time_gpu - start_time_gpu)\n",
        "gpu_processing_time = end_time_gpu - start_time_gpu\n",
        "\n",
        "print('Accuracy of the GPU-based OCR model on the test images: {} %'.format(accuracy_gpu))\n",
        "print('Frames per second (GPU): {:.2f}'.format(fps_gpu))\n",
        "print('GPU Processing Time: {:.4f} seconds'.format(gpu_processing_time))\n",
        "\n",
        "# Evaluate CPU model\n",
        "start_time_cpu = time.time()\n",
        "correct_cpu = 0\n",
        "total_cpu = 0\n",
        "with torch.no_grad():\n",
        "    for images, labels in train_loader:\n",
        "        outputs = cpu_model(images)\n",
        "        _, predicted = torch.max(outputs.data, 1)\n",
        "        total_cpu += labels.size(0)\n",
        "        correct_cpu += (predicted == labels).sum().item()\n",
        "\n",
        "accuracy_cpu = 100 * correct_cpu / total_cpu\n",
        "end_time_cpu = time.time()\n",
        "fps_cpu = len(train_loader.dataset) / (end_time_cpu - start_time_cpu)\n",
        "cpu_processing_time = end_time_cpu - start_time_cpu\n",
        "\n",
        "print('Accuracy of the CPU-based OCR model on the test images: {} %'.format(accuracy_cpu))\n",
        "print('Frames per second (CPU): {:.2f}'.format(fps_cpu))\n",
        "print('CPU Processing Time: {:.4f} seconds'.format(cpu_processing_time))\n"
      ],
      "metadata": {
        "colab": {
          "base_uri": "https://localhost:8080/"
        },
        "id": "JP2GMmntYfQW",
        "outputId": "cb4449a9-c153-4068-8d97-4aee0691af4b"
      },
      "execution_count": 24,
      "outputs": [
        {
          "output_type": "stream",
          "name": "stdout",
          "text": [
            "Accuracy of the GPU-based OCR model on the test images: 99.52666666666667 %\n",
            "Frames per second (GPU): 1279.62\n",
            "GPU Processing Time: 46.8889 seconds\n",
            "Accuracy of the CPU-based OCR model on the test images: 99.52666666666667 %\n",
            "Frames per second (CPU): 1260.82\n",
            "CPU Processing Time: 47.5879 seconds\n"
          ]
        }
      ]
    },
    {
      "cell_type": "code",
      "source": [
        "# prompt: display the processing time for both models in a subplot model\n",
        "\n",
        "import matplotlib.pyplot as plt\n",
        "# Processing Time Comparison\n",
        "plt.figure(figsize=(8, 6))\n",
        "\n",
        "plt.subplot(1, 2, 1)\n",
        "plt.bar([\"GPU\"], [gpu_processing_time], color=['blue'])\n",
        "plt.ylabel(\"Processing Time (seconds)\")\n",
        "plt.title(\"GPU Processing Time\")\n",
        "\n",
        "plt.subplot(1, 2, 2)\n",
        "plt.bar([\"CPU\"], [cpu_processing_time], color=['orange'])\n",
        "plt.ylabel(\"Processing Time (seconds)\")\n",
        "plt.title(\"CPU Processing Time\")\n",
        "\n",
        "plt.tight_layout()\n",
        "plt.show()\n"
      ],
      "metadata": {
        "colab": {
          "base_uri": "https://localhost:8080/",
          "height": 607
        },
        "id": "o4iOJt_sZnPr",
        "outputId": "2ef437ee-6048-4b61-e7bb-d13b9724cd34"
      },
      "execution_count": 31,
      "outputs": [
        {
          "output_type": "display_data",
          "data": {
            "text/plain": [
              "<Figure size 800x600 with 2 Axes>"
            ],
            "image/png": "[encoded data removed]"
          },
          "metadata": {}
        }
      ]
    },
    {
      "cell_type": "code",
      "source": [
        "# prompt: load the video into the both gpu and cpu models\n",
        "\n",
        "import cv2\n",
        "\n",
        "# Function to preprocess video frames\n",
        "def preprocess_frame(frame):\n",
        "  frame = cv2.cvtColor(frame, cv2.COLOR_BGR2GRAY)\n",
        "  frame = cv2.resize(frame, (28, 28))\n",
        "  frame = transforms.ToTensor()(frame).unsqueeze(0)  # Add batch dimension\n",
        "  return frame.to(device) if torch.cuda.is_available() else frame\n",
        "\n",
        "# Load the video\n",
        "video_path = '/content/drive/MyDrive/download_video.mp4'  # Replace with your video path\n",
        "cap = cv2.VideoCapture(video_path)\n",
        "\n",
        "# Process video frames\n",
        "while cap.isOpened():\n",
        "  ret, frame = cap.read()\n",
        "  if not ret:\n",
        "    break\n",
        "\n",
        "  # Preprocess the frame\n",
        "  input_tensor = preprocess_frame(frame)\n",
        "\n",
        "  # Inference with GPU model\n",
        "  with torch.no_grad():\n",
        "    gpu_output = model(input_tensor)\n",
        "    _, gpu_predicted = torch.max(gpu_output.data, 1)\n",
        "\n",
        "  # Inference with CPU model\n",
        "  with torch.no_grad():\n",
        "    cpu_output = cpu_model(input_tensor)\n",
        "    _, cpu_predicted = torch.max(cpu_output.data, 1)\n",
        "\n",
        "  # Display or process the predictions as needed\n",
        "  print(\"GPU Prediction:\", gpu_predicted.item())\n",
        "  print(\"CPU Prediction:\", cpu_predicted.item())\n",
        "\n",
        "  # Display the frame (optional)\n",
        "  cv2.imshow('Frame', frame)\n",
        "  if cv2.waitKey(1) & 0xFF == ord('q'):\n",
        "    break\n",
        "\n",
        "cap.release()\n",
        "cv2.destroyAllWindows()\n"
      ],
      "metadata": {
        "id": "uWFJ83j4oTz8"
      },
      "execution_count": 46,
      "outputs": []
    },
    {
      "cell_type": "code",
      "source": [
        "# prompt: take the input as video and display the accuracy, fps ,performance comparison, and cpu usage time\n",
        "\n",
        "import time\n",
        "import psutil\n",
        "\n",
        "def evaluate_model_on_video(model, device, video_path, model_name=\"Model\"):\n",
        "    \"\"\"Evaluates a given model on a video and prints performance metrics.\"\"\"\n",
        "\n",
        "    cap = cv2.VideoCapture(video_path)\n",
        "    total_frames = int(cap.get(cv2.CAP_PROP_FRAME_COUNT))\n",
        "\n",
        "    start_time = time.time()\n",
        "    correct = 0\n",
        "    total = 0\n",
        "\n",
        "    with torch.no_grad():\n",
        "        while cap.isOpened():\n",
        "            ret, frame = cap.read()\n",
        "            if not ret:\n",
        "                break\n",
        "\n",
        "            input_tensor = preprocess_frame(frame)\n",
        "            outputs = model(input_tensor)\n",
        "            _, predicted = torch.max(outputs.data, 1)\n",
        "\n",
        "            # Assuming you have ground truth labels available (replace with your logic)\n",
        "            # label = get_ground_truth_label_for_frame(frame)\n",
        "            # total += 1\n",
        "            # correct += (predicted == label).item()\n",
        "\n",
        "    end_time = time.time()\n",
        "    processing_time = end_time - start_time\n",
        "    fps = total_frames / processing_time\n",
        "    # accuracy = 100 * correct / total if total > 0 else 0\n",
        "\n",
        "    print(f\"\\n{model_name} Performance:\")\n",
        "    print(\"---------------------\")\n",
        "    # print(f\"Accuracy: {accuracy:.2f}%\")\n",
        "    print(f\"Frames per Second (FPS): {fps:.2f}\")\n",
        "    print(f\"Processing Time: {processing_time:.4f} seconds\")\n",
        "\n",
        "    cpu_percent = psutil.cpu_percent()\n",
        "    print(f\"CPU Utilization: {cpu_percent}%\")\n",
        "\n",
        "    cap.release()\n",
        "\n",
        "# Evaluate GPU model on video\n",
        "evaluate_model_on_video(model, device, '/content/drive/MyDrive/download_video.mp4.mp4', \"GPU Model\")\n",
        "\n",
        "# Evaluate CPU model on video\n",
        "evaluate_model_on_video(cpu_model, torch.device(\"cpu\"), '/content/drive/MyDrive/download_video.mp4.mp4', \"CPU Model\")\n"
      ],
      "metadata": {
        "colab": {
          "base_uri": "https://localhost:8080/"
        },
        "id": "ac0poLl8oxP_",
        "outputId": "75d7ae4b-a91f-4582-8311-6d0fc2372f72"
      },
      "execution_count": 49,
      "outputs": [
        {
          "output_type": "stream",
          "name": "stdout",
          "text": [
            "\n",
            "GPU Model Performance:\n",
            "---------------------\n",
            "Frames per Second (FPS): 69.26\n",
            "Processing Time: 3.4075 seconds\n",
            "CPU Utilization: 25.1%\n",
            "\n",
            "CPU Model Performance:\n",
            "---------------------\n",
            "Frames per Second (FPS): 44.53\n",
            "Processing Time: 5.3002 seconds\n",
            "CPU Utilization: 99.3%\n"
          ]
        }
      ]
    },
    {
      "cell_type": "markdown",
      "source": [
        "**After optimization**"
      ],
      "metadata": {
        "id": "YQ7_bw8MghCe"
      }
    },
    {
      "cell_type": "code",
      "source": [
        "# Import necessary module for pruning\n",
        "import torch.nn.utils.prune as prune\n",
        "\n",
        "# Quantization\n",
        "quantized_model = torch.quantization.quantize_dynamic(\n",
        "    cpu_model, {torch.nn.Linear}, dtype=torch.qint8\n",
        ")\n",
        "\n",
        "# Pruning (Example: Simple pruning - you might need to fine-tune this)\n",
        "# Update parameter names to match quantized model if necessary\n",
        "parameters_to_prune = (\n",
        "    (quantized_model.conv1, 'weight'),\n",
        "    (quantized_model.conv2, 'weight'),\n",
        "    (quantized_model.fc1, 'weight'),\n",
        "    (quantized_model.fc2, 'weight'),\n",
        ")\n",
        "\n",
        "# Pass the parameters of the layers instead of the layers themselves\n",
        "# Check if parameters exist before pruning\n",
        "prunable_params = [param for (module, name) in parameters_to_prune for param in module.parameters() if name in param.names]\n",
        "if prunable_params:\n",
        "    prune.global_unstructured(\n",
        "        prunable_params,\n",
        "        pruning_method=prune.L1Unstructured,\n",
        "        amount=0.2,  # Adjust pruning amount as needed\n",
        "    )\n",
        "else:\n",
        "    print(\"Warning: No prunable parameters found.\")\n",
        "\n",
        "# Batch size adjustment (Experiment with different batch sizes)\n",
        "optimized_batch_size = 128  # Example, adjust based on your system\n",
        "optimized_train_loader = DataLoader(dataset=train_dataset, batch_size=optimized_batch_size, shuffle=True)\n",
        "\n",
        "# Evaluate optimized CPU model\n",
        "start_time = time.time()\n",
        "correct_optimized = 0\n",
        "total_optimized = 0\n",
        "with torch.no_grad():\n",
        "    for images, labels in optimized_train_loader:\n",
        "        outputs = quantized_model(images)\n",
        "        _, predicted = torch.max(outputs.data, 1)\n",
        "        total_optimized += labels.size(0)\n",
        "        correct_optimized += (predicted == labels).sum().item()\n",
        "\n",
        "accuracy_optimized = 100 * correct_optimized / total_optimized\n",
        "end_time = time.time()\n",
        "fps_optimized = len(train_loader.dataset) / (end_time - start_time)\n",
        "\n",
        "print('Accuracy of the optimized CPU-based OCR model on the test images: {} %'.format(accuracy_optimized))\n",
        "print('Frames per second (Optimized CPU): {:.2f}'.format(fps_optimized))"
      ],
      "metadata": {
        "colab": {
          "base_uri": "https://localhost:8080/"
        },
        "id": "ut1eUp8_ggbd",
        "outputId": "deb9efb1-fdce-47a9-fa45-795ced9b7b98"
      },
      "execution_count": 45,
      "outputs": [
        {
          "output_type": "stream",
          "name": "stdout",
          "text": [
            "Warning: No prunable parameters found.\n",
            "Accuracy of the optimized CPU-based OCR model on the test images: 99.52833333333334 %\n",
            "Frames per second (Optimized CPU): 1050.02\n"
          ]
        }
      ]
    },
    {
      "cell_type": "code",
      "source": [
        "# prompt: display the cpu based ocr model after optimization\n",
        "\n",
        "print(cpu_model)\n"
      ],
      "metadata": {
        "colab": {
          "base_uri": "https://localhost:8080/"
        },
        "id": "yPWgN1IbhEYJ",
        "outputId": "3e1776c8-6c4d-4fe3-a214-ebbde5ec484b"
      },
      "execution_count": 39,
      "outputs": [
        {
          "output_type": "stream",
          "name": "stdout",
          "text": [
            "OCRModel(\n",
            "  (conv1): Conv2d(1, 32, kernel_size=(3, 3), stride=(1, 1), padding=(1, 1))\n",
            "  (conv2): Conv2d(32, 64, kernel_size=(3, 3), stride=(1, 1), padding=(1, 1))\n",
            "  (pool): MaxPool2d(kernel_size=2, stride=2, padding=0, dilation=1, ceil_mode=False)\n",
            "  (fc1): Linear(in_features=3136, out_features=128, bias=True)\n",
            "  (fc2): Linear(in_features=128, out_features=10, bias=True)\n",
            ")\n"
          ]
        }
      ]
    },
    {
      "cell_type": "code",
      "source": [
        "# prompt: display the accuracy and fps in both gpu and cpu model after optimasation\n",
        "\n",
        "# Evaluate GPU model (already in the provided code)\n",
        "\n",
        "# Display the results\n",
        "print(\"\\nPerformance Comparison After Optimization:\")\n",
        "print(\"-------------------------------------\")\n",
        "print(f\"GPU Accuracy: {accuracy_gpu:.2f}%\")\n",
        "print(f\"CPU Accuracy (Optimized): {accuracy_cpu:.2f}%\")\n",
        "print(f\"GPU Speed (FPS): {fps_gpu:.2f}\")\n",
        "print(f\"CPU Speed (FPS) (Optimized): {fps_cpu:.2f}\")\n"
      ],
      "metadata": {
        "colab": {
          "base_uri": "https://localhost:8080/"
        },
        "id": "akYD7hcRhc1z",
        "outputId": "6c7e0920-662d-4b3a-e01b-d2914c550190"
      },
      "execution_count": 61,
      "outputs": [
        {
          "output_type": "stream",
          "name": "stdout",
          "text": [
            "\n",
            "Performance Comparison After Optimization:\n",
            "-------------------------------------\n",
            "GPU Accuracy: 99.53%\n",
            "CPU Accuracy (Optimized): 99.53%\n",
            "GPU Speed (FPS): 1279.62\n",
            "CPU Speed (FPS) (Optimized): 1058.17\n"
          ]
        }
      ]
    },
    {
      "cell_type": "code",
      "source": [
        "import torch\n",
        "import torch.nn as nn\n",
        "import torch.optim as optim\n",
        "import torch.quantization\n",
        "from torch.utils.data import DataLoader\n",
        "import time\n",
        "\n",
        "# Load your pre-trained model into 'cpu_model'\n",
        "# cpu_model = ...\n",
        "\n",
        "# 1. Prepare the model for quantization\n",
        "cpu_model.train()\n",
        "cpu_model.qconfig = torch.quantization.get_default_qat_qconfig('fbgemm')\n",
        "torch.quantization.prepare_qat(cpu_model, inplace=True)\n",
        "\n",
        "# 2. Fine-Tune with QAT\n",
        "criterion = nn.CrossEntropyLoss()\n",
        "optimizer_pruned = optim.Adam(cpu_model.parameters(), lr=0.001)\n",
        "\n",
        "num_epochs_finetune = 2  # Adjust as needed\n",
        "for epoch in range(num_epochs_finetune):\n",
        "    cpu_model.train()\n",
        "    running_loss = 0.0\n",
        "    start_time = time.time()\n",
        "\n",
        "    for images, labels in optimized_train_loader:\n",
        "        optimizer_pruned.zero_grad()\n",
        "        outputs = cpu_model(images)\n",
        "        loss = criterion(outputs, labels)\n",
        "        loss.backward()\n",
        "        optimizer_pruned.step()\n",
        "        running_loss += loss.item()\n",
        "\n",
        "    end_time = time.time()\n",
        "    print(f\"Fine-tuning Epoch [{epoch+1}/{num_epochs_finetune}], Loss: {running_loss/len(optimized_train_loader):.4f}\")\n",
        "    print(f\"Epoch Time: {end_time - start_time:.2f} seconds\")\n",
        "\n",
        "# Convert the model to a quantized version\n",
        "cpu_model.eval()\n",
        "quantized_model = torch.quantization.convert(cpu_model, inplace=True)\n",
        "\n",
        "# 3. Apply Structured Pruning (if needed)\n",
        "from torch.nn.utils import prune\n",
        "\n",
        "prune.global_unstructured(\n",
        "    [(module, 'weight') for module in cpu_model.modules() if isinstance(module, nn.Conv2d)],\n",
        "    pruning_method=prune.L1Unstructured,\n",
        "    amount=0.2,  # Prune 20% of the least important weights\n",
        ")\n",
        "\n",
        "# Fine-tune again to recover any lost accuracy\n",
        "for epoch in range(2):  # Quick fine-tuning to regain accuracy\n",
        "    cpu_model.train()\n",
        "    running_loss = 0.0\n",
        "    start_time = time.time()\n",
        "\n",
        "    for images, labels in optimized_train_loader:\n",
        "        optimizer_pruned.zero_grad()\n",
        "        outputs = cpu_model(images)\n",
        "        loss = criterion(outputs, labels)\n",
        "        loss.backward()\n",
        "        optimizer_pruned.step()\n",
        "        running_loss += loss.item()\n",
        "\n",
        "    end_time = time.time()\n",
        "    print(f\"Quick Fine-tuning Epoch [{epoch+1}/2], Loss: {running_loss/len(optimized_train_loader):.4f}\")\n",
        "    print(f\"Epoch Time: {end_time - start_time:.2f} seconds\")\n",
        "\n",
        "# 4. Evaluate the Optimized CPU Model\n",
        "def evaluate_optimized_model(data_loader, model):\n",
        "    model.eval()\n",
        "    correct_optimized = 0\n",
        "    total_optimized = 0\n",
        "    start_time = time.time()\n",
        "\n",
        "    with torch.no_grad():\n",
        "        for images, labels in data_loader:\n",
        "            # Ensure images are moved to the correct device (CPU)\n",
        "            outputs = model(images)\n",
        "            _, predicted = torch.max(outputs.data, 1)\n",
        "            total_optimized += labels.size(0)\n",
        "            correct_optimized += (predicted == labels).sum().item()\n",
        "\n",
        "    end_time = time.time()\n",
        "\n",
        "    accuracy_optimized = 100 * correct_optimized / total_optimized\n",
        "    fps_optimized = len(data_loader.dataset) / (end_time - start_time)\n",
        "    optimized_processing_time = end_time - start_time\n",
        "\n",
        "    return accuracy_optimized, fps_optimized, optimized_processing_time\n",
        "\n",
        "# Run evaluation on the test dataset\n",
        "accuracy_optimized, fps_optimized, optimized_processing_time = evaluate_optimized_model(optimized_test_loader, quantized_model)\n",
        "\n",
        "# Assuming GPU results are already computed\n",
        "# accuracy_gpu, fps_gpu, gpu_processing_time would already be defined from previous GPU runs\n",
        "\n",
        "# Display the results\n",
        "print(\"Performance Comparison After Further Optimization:\")\n",
        "print(\"----------------------------------------------\")\n",
        "print(f\"GPU Accuracy: {accuracy_gpu:.2f}%\")\n",
        "print(f\"CPU Accuracy (Further Optimized): {accuracy_optimized:.2f}%\")\n",
        "print(f\"GPU Speed (FPS): {fps_gpu:.2f}\")\n",
        "print(f\"CPU Speed (FPS) (Further Optimized): {fps_optimized:.2f}\")\n",
        "print(f\"GPU Processing Time: {gpu_processing_time:.4f} seconds\")\n",
        "print(f\"CPU Processing Time (Further Optimized): {optimized_processing_time:.4f} seconds\")\n"
      ],
      "metadata": {
        "colab": {
          "base_uri": "https://localhost:8080/",
          "height": 356
        },
        "id": "1hsE4RXLzzRr",
        "outputId": "2eadd68e-614c-4ef7-9b65-7f2abbc672ba"
      },
      "execution_count": 110,
      "outputs": [
        {
          "output_type": "error",
          "ename": "ValueError",
          "evalue": "optimizer got an empty parameter list",
          "traceback": [
            "\u001b[0;31m---------------------------------------------------------------------------\u001b[0m",
            "\u001b[0;31mValueError\u001b[0m                                Traceback (most recent call last)",
            "\u001b[0;32m<ipython-input-110-5c2b847e4d63>\u001b[0m in \u001b[0;36m<cell line: 18>\u001b[0;34m()\u001b[0m\n\u001b[1;32m     16\u001b[0m \u001b[0;31m# 2. Fine-Tune with QAT\u001b[0m\u001b[0;34m\u001b[0m\u001b[0;34m\u001b[0m\u001b[0m\n\u001b[1;32m     17\u001b[0m \u001b[0mcriterion\u001b[0m \u001b[0;34m=\u001b[0m \u001b[0mnn\u001b[0m\u001b[0;34m.\u001b[0m\u001b[0mCrossEntropyLoss\u001b[0m\u001b[0;34m(\u001b[0m\u001b[0;34m)\u001b[0m\u001b[0;34m\u001b[0m\u001b[0;34m\u001b[0m\u001b[0m\n\u001b[0;32m---> 18\u001b[0;31m \u001b[0moptimizer_pruned\u001b[0m \u001b[0;34m=\u001b[0m \u001b[0moptim\u001b[0m\u001b[0;34m.\u001b[0m\u001b[0mAdam\u001b[0m\u001b[0;34m(\u001b[0m\u001b[0mcpu_model\u001b[0m\u001b[0;34m.\u001b[0m\u001b[0mparameters\u001b[0m\u001b[0;34m(\u001b[0m\u001b[0;34m)\u001b[0m\u001b[0;34m,\u001b[0m \u001b[0mlr\u001b[0m\u001b[0;34m=\u001b[0m\u001b[0;36m0.001\u001b[0m\u001b[0;34m)\u001b[0m\u001b[0;34m\u001b[0m\u001b[0;34m\u001b[0m\u001b[0m\n\u001b[0m\u001b[1;32m     19\u001b[0m \u001b[0;34m\u001b[0m\u001b[0m\n\u001b[1;32m     20\u001b[0m \u001b[0mnum_epochs_finetune\u001b[0m \u001b[0;34m=\u001b[0m \u001b[0;36m2\u001b[0m  \u001b[0;31m# Adjust as needed\u001b[0m\u001b[0;34m\u001b[0m\u001b[0;34m\u001b[0m\u001b[0m\n",
            "\u001b[0;32m/usr/local/lib/python3.10/dist-packages/torch/optim/adam.py\u001b[0m in \u001b[0;36m__init__\u001b[0;34m(self, params, lr, betas, eps, weight_decay, amsgrad, foreach, maximize, capturable, differentiable, fused)\u001b[0m\n\u001b[1;32m     43\u001b[0m                         \u001b[0mmaximize\u001b[0m\u001b[0;34m=\u001b[0m\u001b[0mmaximize\u001b[0m\u001b[0;34m,\u001b[0m \u001b[0mforeach\u001b[0m\u001b[0;34m=\u001b[0m\u001b[0mforeach\u001b[0m\u001b[0;34m,\u001b[0m \u001b[0mcapturable\u001b[0m\u001b[0;34m=\u001b[0m\u001b[0mcapturable\u001b[0m\u001b[0;34m,\u001b[0m\u001b[0;34m\u001b[0m\u001b[0;34m\u001b[0m\u001b[0m\n\u001b[1;32m     44\u001b[0m                         differentiable=differentiable, fused=fused)\n\u001b[0;32m---> 45\u001b[0;31m         \u001b[0msuper\u001b[0m\u001b[0;34m(\u001b[0m\u001b[0;34m)\u001b[0m\u001b[0;34m.\u001b[0m\u001b[0m__init__\u001b[0m\u001b[0;34m(\u001b[0m\u001b[0mparams\u001b[0m\u001b[0;34m,\u001b[0m \u001b[0mdefaults\u001b[0m\u001b[0;34m)\u001b[0m\u001b[0;34m\u001b[0m\u001b[0;34m\u001b[0m\u001b[0m\n\u001b[0m\u001b[1;32m     46\u001b[0m \u001b[0;34m\u001b[0m\u001b[0m\n\u001b[1;32m     47\u001b[0m         \u001b[0;32mif\u001b[0m \u001b[0mfused\u001b[0m\u001b[0;34m:\u001b[0m\u001b[0;34m\u001b[0m\u001b[0;34m\u001b[0m\u001b[0m\n",
            "\u001b[0;32m/usr/local/lib/python3.10/dist-packages/torch/optim/optimizer.py\u001b[0m in \u001b[0;36m__init__\u001b[0;34m(self, params, defaults)\u001b[0m\n\u001b[1;32m    277\u001b[0m         \u001b[0mparam_groups\u001b[0m \u001b[0;34m=\u001b[0m \u001b[0mlist\u001b[0m\u001b[0;34m(\u001b[0m\u001b[0mparams\u001b[0m\u001b[0;34m)\u001b[0m\u001b[0;34m\u001b[0m\u001b[0;34m\u001b[0m\u001b[0m\n\u001b[1;32m    278\u001b[0m         \u001b[0;32mif\u001b[0m \u001b[0mlen\u001b[0m\u001b[0;34m(\u001b[0m\u001b[0mparam_groups\u001b[0m\u001b[0;34m)\u001b[0m \u001b[0;34m==\u001b[0m \u001b[0;36m0\u001b[0m\u001b[0;34m:\u001b[0m\u001b[0;34m\u001b[0m\u001b[0;34m\u001b[0m\u001b[0m\n\u001b[0;32m--> 279\u001b[0;31m             \u001b[0;32mraise\u001b[0m \u001b[0mValueError\u001b[0m\u001b[0;34m(\u001b[0m\u001b[0;34m\"optimizer got an empty parameter list\"\u001b[0m\u001b[0;34m)\u001b[0m\u001b[0;34m\u001b[0m\u001b[0;34m\u001b[0m\u001b[0m\n\u001b[0m\u001b[1;32m    280\u001b[0m         \u001b[0;32mif\u001b[0m \u001b[0;32mnot\u001b[0m \u001b[0misinstance\u001b[0m\u001b[0;34m(\u001b[0m\u001b[0mparam_groups\u001b[0m\u001b[0;34m[\u001b[0m\u001b[0;36m0\u001b[0m\u001b[0;34m]\u001b[0m\u001b[0;34m,\u001b[0m \u001b[0mdict\u001b[0m\u001b[0;34m)\u001b[0m\u001b[0;34m:\u001b[0m\u001b[0;34m\u001b[0m\u001b[0;34m\u001b[0m\u001b[0m\n\u001b[1;32m    281\u001b[0m             \u001b[0mparam_groups\u001b[0m \u001b[0;34m=\u001b[0m \u001b[0;34m[\u001b[0m\u001b[0;34m{\u001b[0m\u001b[0;34m'params'\u001b[0m\u001b[0;34m:\u001b[0m \u001b[0mparam_groups\u001b[0m\u001b[0;34m}\u001b[0m\u001b[0;34m]\u001b[0m\u001b[0;34m\u001b[0m\u001b[0;34m\u001b[0m\u001b[0m\n",
            "\u001b[0;31mValueError\u001b[0m: optimizer got an empty parameter list"
          ]
        }
      ]
    }
  ]
}