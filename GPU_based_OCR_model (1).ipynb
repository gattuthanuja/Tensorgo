{
  "nbformat": 4,
  "nbformat_minor": 0,
  "metadata": {
    "colab": {
      "provenance": [],
      "gpuType": "T4"
    },
    "kernelspec": {
      "name": "python3",
      "display_name": "Python 3"
    },
    "language_info": {
      "name": "python"
    },
    "accelerator": "GPU"
  },
  "cells": [
    {
      "cell_type": "code",
      "execution_count": 1,
      "metadata": {
        "colab": {
          "base_uri": "https://localhost:8080/"
        },
        "id": "JWSuMO4GdoeK",
        "outputId": "636f555b-99bd-4358-9fdf-9c7887b9ca91"
      },
      "outputs": [
        {
          "output_type": "stream",
          "name": "stdout",
          "text": [
            "Mounted at /content/drive\n"
          ]
        }
      ],
      "source": [
        "from google.colab import drive\n",
        "drive.mount('/content/drive')\n"
      ]
    },
    {
      "cell_type": "code",
      "source": [
        "import torch\n",
        "import torch.nn as nn\n",
        "import torch.optim as optim\n",
        "import torch.nn.functional as F\n",
        "from torch.utils.data import DataLoader, Dataset\n",
        "import torchvision.transforms as transforms\n",
        "from torchvision.datasets import MNIST\n",
        "\n",
        "# Define a simple CNN-based OCR model\n",
        "class OCRModel(nn.Module):\n",
        "    def __init__(self, num_classes=10):\n",
        "        super(OCRModel, self).__init__()\n",
        "        self.conv1 = nn.Conv2d(1, 32, kernel_size=3, stride=1, padding=1)\n",
        "        self.conv2 = nn.Conv2d(32, 64, kernel_size=3, stride=1, padding=1)\n",
        "        self.pool = nn.MaxPool2d(kernel_size=2, stride=2, padding=0)\n",
        "        self.fc1 = nn.Linear(64 * 7 * 7, 128)\n",
        "        self.fc2 = nn.Linear(128, num_classes)\n",
        "\n",
        "    def forward(self, x):\n",
        "        x = self.pool(F.relu(self.conv1(x)))\n",
        "        x = self.pool(F.relu(self.conv2(x)))\n",
        "        x = x.view(-1, 64 * 7 * 7)  # Flatten\n",
        "        x = F.relu(self.fc1(x))\n",
        "        x = self.fc2(x)\n",
        "        return x\n",
        "\n",
        "# Check if GPU is available and move the model to GPU\n",
        "device = torch.device(\"cuda\" if torch.cuda.is_available() else \"cpu\")\n",
        "model = OCRModel(num_classes=10).to(device)\n",
        "\n",
        "# Load the dataset (e.g., MNIST for digit recognition)\n",
        "transform = transforms.Compose([transforms.ToTensor(), transforms.Normalize((0.5,), (0.5,))])\n",
        "train_dataset = MNIST(root='./data', train=True, download=True, transform=transform)\n",
        "train_loader = DataLoader(dataset=train_dataset, batch_size=64, shuffle=True)\n",
        "\n",
        "# Define the loss function and optimizer\n",
        "criterion = nn.CrossEntropyLoss()\n",
        "optimizer = optim.Adam(model.parameters(), lr=0.001)\n",
        "\n",
        "# Training the model on GPU\n",
        "num_epochs = 5\n",
        "for epoch in range(num_epochs):\n",
        "    model.train()\n",
        "    running_loss = 0.0\n",
        "    for images, labels in train_loader:\n",
        "        images, labels = images.to(device), labels.to(device)\n",
        "\n",
        "        # Zero the parameter gradients\n",
        "        optimizer.zero_grad()\n",
        "\n",
        "        # Forward pass\n",
        "        outputs = model(images)\n",
        "        loss = criterion(outputs, labels)\n",
        "\n",
        "        # Backward pass and optimize\n",
        "        loss.backward()\n",
        "        optimizer.step()\n",
        "\n",
        "        running_loss += loss.item()\n",
        "\n",
        "    print(f\"Epoch [{epoch+1}/{num_epochs}], Loss: {running_loss/len(train_loader):.4f}\")\n",
        "\n",
        "print(\"Finished Training\")\n",
        "\n",
        "# Save the trained model\n",
        "torch.save(model.state_dict(), \"gpu_ocr_model.pth\")\n"
      ],
      "metadata": {
        "colab": {
          "base_uri": "https://localhost:8080/"
        },
        "id": "rPsxS9N4eGYL",
        "outputId": "89e8f590-f085-4e96-e994-e9ee56fb3472"
      },
      "execution_count": 2,
      "outputs": [
        {
          "output_type": "stream",
          "name": "stdout",
          "text": [
            "Downloading http://yann.lecun.com/exdb/mnist/train-images-idx3-ubyte.gz\n",
            "Failed to download (trying next):\n",
            "HTTP Error 403: Forbidden\n",
            "\n",
            "Downloading https://ossci-datasets.s3.amazonaws.com/mnist/train-images-idx3-ubyte.gz\n",
            "Downloading https://ossci-datasets.s3.amazonaws.com/mnist/train-images-idx3-ubyte.gz to ./data/MNIST/raw/train-images-idx3-ubyte.gz\n"
          ]
        },
        {
          "output_type": "stream",
          "name": "stderr",
          "text": [
            "100%|██████████| 9912422/9912422 [00:00<00:00, 17228142.39it/s]\n"
          ]
        },
        {
          "output_type": "stream",
          "name": "stdout",
          "text": [
            "Extracting ./data/MNIST/raw/train-images-idx3-ubyte.gz to ./data/MNIST/raw\n",
            "\n",
            "Downloading http://yann.lecun.com/exdb/mnist/train-labels-idx1-ubyte.gz\n",
            "Failed to download (trying next):\n",
            "HTTP Error 403: Forbidden\n",
            "\n",
            "Downloading https://ossci-datasets.s3.amazonaws.com/mnist/train-labels-idx1-ubyte.gz\n",
            "Downloading https://ossci-datasets.s3.amazonaws.com/mnist/train-labels-idx1-ubyte.gz to ./data/MNIST/raw/train-labels-idx1-ubyte.gz\n"
          ]
        },
        {
          "output_type": "stream",
          "name": "stderr",
          "text": [
            "100%|██████████| 28881/28881 [00:00<00:00, 464121.43it/s]\n"
          ]
        },
        {
          "output_type": "stream",
          "name": "stdout",
          "text": [
            "Extracting ./data/MNIST/raw/train-labels-idx1-ubyte.gz to ./data/MNIST/raw\n",
            "\n",
            "Downloading http://yann.lecun.com/exdb/mnist/t10k-images-idx3-ubyte.gz\n",
            "Failed to download (trying next):\n",
            "HTTP Error 403: Forbidden\n",
            "\n",
            "Downloading https://ossci-datasets.s3.amazonaws.com/mnist/t10k-images-idx3-ubyte.gz\n",
            "Downloading https://ossci-datasets.s3.amazonaws.com/mnist/t10k-images-idx3-ubyte.gz to ./data/MNIST/raw/t10k-images-idx3-ubyte.gz\n"
          ]
        },
        {
          "output_type": "stream",
          "name": "stderr",
          "text": [
            "100%|██████████| 1648877/1648877 [00:00<00:00, 3687472.42it/s]\n"
          ]
        },
        {
          "output_type": "stream",
          "name": "stdout",
          "text": [
            "Extracting ./data/MNIST/raw/t10k-images-idx3-ubyte.gz to ./data/MNIST/raw\n",
            "\n",
            "Downloading http://yann.lecun.com/exdb/mnist/t10k-labels-idx1-ubyte.gz\n",
            "Failed to download (trying next):\n",
            "HTTP Error 403: Forbidden\n",
            "\n",
            "Downloading https://ossci-datasets.s3.amazonaws.com/mnist/t10k-labels-idx1-ubyte.gz\n",
            "Downloading https://ossci-datasets.s3.amazonaws.com/mnist/t10k-labels-idx1-ubyte.gz to ./data/MNIST/raw/t10k-labels-idx1-ubyte.gz\n"
          ]
        },
        {
          "output_type": "stream",
          "name": "stderr",
          "text": [
            "100%|██████████| 4542/4542 [00:00<00:00, 5563822.65it/s]\n"
          ]
        },
        {
          "output_type": "stream",
          "name": "stdout",
          "text": [
            "Extracting ./data/MNIST/raw/t10k-labels-idx1-ubyte.gz to ./data/MNIST/raw\n",
            "\n",
            "Epoch [1/5], Loss: 0.1503\n",
            "Epoch [2/5], Loss: 0.0457\n",
            "Epoch [3/5], Loss: 0.0308\n",
            "Epoch [4/5], Loss: 0.0231\n",
            "Epoch [5/5], Loss: 0.0173\n",
            "Finished Training\n"
          ]
        }
      ]
    },
    {
      "cell_type": "code",
      "source": [
        "print(model)"
      ],
      "metadata": {
        "colab": {
          "base_uri": "https://localhost:8080/"
        },
        "id": "UMLwkb5nefWU",
        "outputId": "ab7fdcf4-839f-4f5f-900f-eca9895b7f88"
      },
      "execution_count": 3,
      "outputs": [
        {
          "output_type": "stream",
          "name": "stdout",
          "text": [
            "OCRModel(\n",
            "  (conv1): Conv2d(1, 32, kernel_size=(3, 3), stride=(1, 1), padding=(1, 1))\n",
            "  (conv2): Conv2d(32, 64, kernel_size=(3, 3), stride=(1, 1), padding=(1, 1))\n",
            "  (pool): MaxPool2d(kernel_size=2, stride=2, padding=0, dilation=1, ceil_mode=False)\n",
            "  (fc1): Linear(in_features=3136, out_features=128, bias=True)\n",
            "  (fc2): Linear(in_features=128, out_features=10, bias=True)\n",
            ")\n"
          ]
        }
      ]
    },
    {
      "cell_type": "code",
      "source": [
        "from google.colab import files\n",
        "files.download('gpu_ocr_model.pth')\n",
        "\n",
        "!ls -l gpu_ocr_model.pth"
      ],
      "metadata": {
        "colab": {
          "base_uri": "https://localhost:8080/",
          "height": 34
        },
        "id": "TODDyc_Bekb0",
        "outputId": "935da885-41ee-4441-ac05-1df9613bb3bf"
      },
      "execution_count": 4,
      "outputs": [
        {
          "output_type": "display_data",
          "data": {
            "text/plain": [
              "<IPython.core.display.Javascript object>"
            ],
            "application/javascript": [
              "\n",
              "    async function download(id, filename, size) {\n",
              "      if (!google.colab.kernel.accessAllowed) {\n",
              "        return;\n",
              "      }\n",
              "      const div = document.createElement('div');\n",
              "      const label = document.createElement('label');\n",
              "      label.textContent = `Downloading \"${filename}\": `;\n",
              "      div.appendChild(label);\n",
              "      const progress = document.createElement('progress');\n",
              "      progress.max = size;\n",
              "      div.appendChild(progress);\n",
              "      document.body.appendChild(div);\n",
              "\n",
              "      const buffers = [];\n",
              "      let downloaded = 0;\n",
              "\n",
              "      const channel = await google.colab.kernel.comms.open(id);\n",
              "      // Send a message to notify the kernel that we're ready.\n",
              "      channel.send({})\n",
              "\n",
              "      for await (const message of channel.messages) {\n",
              "        // Send a message to notify the kernel that we're ready.\n",
              "        channel.send({})\n",
              "        if (message.buffers) {\n",
              "          for (const buffer of message.buffers) {\n",
              "            buffers.push(buffer);\n",
              "            downloaded += buffer.byteLength;\n",
              "            progress.value = downloaded;\n",
              "          }\n",
              "        }\n",
              "      }\n",
              "      const blob = new Blob(buffers, {type: 'application/binary'});\n",
              "      const a = document.createElement('a');\n",
              "      a.href = window.URL.createObjectURL(blob);\n",
              "      a.download = filename;\n",
              "      div.appendChild(a);\n",
              "      a.click();\n",
              "      div.remove();\n",
              "    }\n",
              "  "
            ]
          },
          "metadata": {}
        },
        {
          "output_type": "display_data",
          "data": {
            "text/plain": [
              "<IPython.core.display.Javascript object>"
            ],
            "application/javascript": [
              "download(\"download_84626ae1-e16b-4a0f-82dd-6c3396baf9aa\", \"gpu_ocr_model.pth\", 1689864)"
            ]
          },
          "metadata": {}
        },
        {
          "output_type": "stream",
          "name": "stdout",
          "text": [
            "-rw-r--r-- 1 root root 1689864 Aug 22 09:45 gpu_ocr_model.pth\n"
          ]
        }
      ]
    },
    {
      "cell_type": "markdown",
      "source": [
        "**GPU model**"
      ],
      "metadata": {
        "id": "Xz_LrgzCe2Vs"
      }
    },
    {
      "cell_type": "code",
      "source": [
        "import torch\n",
        "import torch.nn as nn\n",
        "\n",
        "# Load the GPU-based OCR model\n",
        "gpu_model = torch.load('gpu_ocr_model.pth')\n",
        "\n",
        "# Print the model architecture\n",
        "print(gpu_model)"
      ],
      "metadata": {
        "colab": {
          "base_uri": "https://localhost:8080/"
        },
        "id": "Sq7rqC03epH2",
        "outputId": "572b95d8-847c-4c70-d82b-d71fd8670247"
      },
      "execution_count": 5,
      "outputs": [
        {
          "output_type": "stream",
          "name": "stdout",
          "text": [
            "OrderedDict([('conv1.weight', tensor([[[[ 5.1306e-02, -7.0419e-03,  3.0156e-02],\n",
            "          [-2.1983e-01,  3.3173e-01, -9.4756e-02],\n",
            "          [-5.5763e-02,  4.1890e-01, -2.6104e-01]]],\n",
            "\n",
            "\n",
            "        [[[ 2.2077e-01,  2.8256e-01, -3.3709e-01],\n",
            "          [-4.6489e-02,  2.4167e-01, -2.7629e-01],\n",
            "          [ 2.2518e-01,  1.1550e-02, -2.2540e-01]]],\n",
            "\n",
            "\n",
            "        [[[ 4.1839e-01,  1.4723e-01,  3.4038e-01],\n",
            "          [-1.1838e-01,  1.0971e-01,  1.4462e-01],\n",
            "          [-3.5581e-01, -2.8030e-01, -2.6881e-01]]],\n",
            "\n",
            "\n",
            "        [[[-2.0447e-01, -6.8814e-02, -4.8794e-02],\n",
            "          [-4.0103e-01, -1.4827e-01,  1.9071e-01],\n",
            "          [-1.4738e-02,  4.8851e-01,  2.3071e-01]]],\n",
            "\n",
            "\n",
            "        [[[ 1.4800e-01,  1.2692e-01, -1.1576e-01],\n",
            "          [-4.0884e-02,  1.7389e-01,  4.0196e-01],\n",
            "          [-1.9120e-01, -3.5437e-01,  2.3982e-01]]],\n",
            "\n",
            "\n",
            "        [[[ 1.8864e-01, -5.3031e-01, -3.2450e-01],\n",
            "          [ 5.3920e-01,  2.4091e-01,  4.5535e-02],\n",
            "          [-2.1499e-01,  3.8802e-01, -1.9351e-01]]],\n",
            "\n",
            "\n",
            "        [[[ 1.8251e-01,  7.1379e-02,  3.4098e-01],\n",
            "          [ 3.6421e-01,  1.6331e-01,  2.1555e-01],\n",
            "          [-2.5389e-01, -4.1369e-01, -3.4335e-01]]],\n",
            "\n",
            "\n",
            "        [[[-1.3491e-01, -7.2317e-02,  3.2763e-01],\n",
            "          [-1.5367e-01, -1.4909e-01,  2.1323e-01],\n",
            "          [-3.4714e-01,  3.5673e-01,  2.9642e-01]]],\n",
            "\n",
            "\n",
            "        [[[-1.6699e-01, -1.8024e-01,  3.5488e-01],\n",
            "          [ 1.9430e-01, -1.7385e-01, -2.1610e-01],\n",
            "          [-2.6129e-01,  1.9515e-01,  2.9833e-01]]],\n",
            "\n",
            "\n",
            "        [[[-2.9186e-01, -2.7384e-01, -3.6410e-01],\n",
            "          [ 3.6485e-02, -2.8809e-01, -8.3234e-02],\n",
            "          [ 4.9653e-01,  5.0419e-01,  1.1716e-02]]],\n",
            "\n",
            "\n",
            "        [[[-2.4253e-01,  2.2787e-01,  6.9309e-02],\n",
            "          [-1.8882e-01, -3.3350e-01, -3.1283e-02],\n",
            "          [ 1.5662e-01, -8.6635e-02, -1.9184e-01]]],\n",
            "\n",
            "\n",
            "        [[[ 3.9562e-01, -3.3150e-01, -7.6001e-02],\n",
            "          [ 3.1508e-01, -7.9490e-02, -3.3017e-01],\n",
            "          [ 1.5772e-01,  1.3093e-01,  2.7941e-01]]],\n",
            "\n",
            "\n",
            "        [[[ 2.9635e-01, -5.8910e-01, -4.1149e-01],\n",
            "          [ 3.1830e-01, -4.4210e-03,  2.6583e-01],\n",
            "          [ 3.5443e-01,  7.0487e-02,  1.4626e-01]]],\n",
            "\n",
            "\n",
            "        [[[ 2.9751e-01, -6.5737e-02,  2.4469e-01],\n",
            "          [ 2.5385e-01,  2.8014e-01, -3.1450e-01],\n",
            "          [-1.6893e-02, -4.3469e-01, -1.2360e-01]]],\n",
            "\n",
            "\n",
            "        [[[ 2.1665e-01, -2.2095e-01, -2.6805e-01],\n",
            "          [ 1.6618e-01, -2.1547e-01,  4.9028e-02],\n",
            "          [-4.1415e-02, -9.0548e-02, -2.9282e-01]]],\n",
            "\n",
            "\n",
            "        [[[-2.0191e-01,  3.8885e-01,  3.3806e-01],\n",
            "          [-2.2910e-01, -2.5984e-01,  2.4952e-01],\n",
            "          [-1.1399e-01, -3.0064e-01, -3.1209e-01]]],\n",
            "\n",
            "\n",
            "        [[[-3.4385e-01,  6.5092e-02,  3.8073e-01],\n",
            "          [-2.9264e-02, -1.3460e-01,  5.0804e-02],\n",
            "          [ 1.2192e-01,  2.7376e-01, -2.8185e-01]]],\n",
            "\n",
            "\n",
            "        [[[ 5.3096e-01,  3.3829e-01, -4.5016e-01],\n",
            "          [ 1.1266e-01,  2.2260e-02,  9.0017e-02],\n",
            "          [ 2.8352e-01,  3.6194e-01,  4.4850e-01]]],\n",
            "\n",
            "\n",
            "        [[[ 3.1583e-01, -1.3921e-01, -1.8524e-01],\n",
            "          [ 1.7058e-02,  6.9421e-02, -3.0671e-01],\n",
            "          [ 4.2040e-01, -2.6856e-02, -2.7288e-01]]],\n",
            "\n",
            "\n",
            "        [[[-4.6971e-02,  3.3960e-01, -3.7501e-01],\n",
            "          [ 2.8797e-01, -1.7810e-01, -6.3377e-02],\n",
            "          [-3.5851e-02,  1.8891e-01,  1.4494e-01]]],\n",
            "\n",
            "\n",
            "        [[[-1.9654e-01, -2.9110e-01,  1.4124e-01],\n",
            "          [ 2.7178e-01, -1.2882e-01, -1.7984e-01],\n",
            "          [-2.9821e-02,  2.5947e-01,  4.2410e-02]]],\n",
            "\n",
            "\n",
            "        [[[-9.6127e-02, -9.7819e-02, -2.4862e-01],\n",
            "          [ 4.3439e-01,  2.4553e-01,  2.8623e-01],\n",
            "          [ 3.7604e-03,  2.4465e-01,  2.7142e-01]]],\n",
            "\n",
            "\n",
            "        [[[-3.3089e-01,  4.1950e-01,  1.2795e-01],\n",
            "          [ 8.9376e-02,  1.2541e-02, -7.9255e-02],\n",
            "          [-1.5546e-02,  2.0414e-01,  3.4021e-01]]],\n",
            "\n",
            "\n",
            "        [[[-3.2635e-01,  1.0749e-01,  2.1722e-01],\n",
            "          [ 5.3176e-01,  4.6180e-01,  9.9649e-03],\n",
            "          [ 7.7544e-02, -3.5204e-01, -4.4272e-01]]],\n",
            "\n",
            "\n",
            "        [[[ 2.6869e-01, -2.5109e-01, -1.3068e-01],\n",
            "          [ 4.0135e-04, -1.9015e-01, -1.0716e-01],\n",
            "          [-2.6165e-01, -3.1308e-01,  1.5921e-01]]],\n",
            "\n",
            "\n",
            "        [[[ 1.7799e-01,  2.0564e-01, -4.1535e-02],\n",
            "          [ 1.3037e-01, -1.4522e-01, -5.8223e-02],\n",
            "          [ 3.8011e-01,  3.8048e-02, -2.7393e-01]]],\n",
            "\n",
            "\n",
            "        [[[ 7.9960e-02,  1.9421e-01,  2.8571e-01],\n",
            "          [ 2.0750e-01,  4.8209e-02,  2.1462e-01],\n",
            "          [-2.8410e-01, -3.2305e-01, -2.6190e-01]]],\n",
            "\n",
            "\n",
            "        [[[-1.8216e-01,  3.8725e-02, -3.7299e-01],\n",
            "          [-1.3296e-01, -8.8778e-02, -1.5336e-01],\n",
            "          [ 3.6421e-01,  2.0819e-01,  3.8295e-01]]],\n",
            "\n",
            "\n",
            "        [[[-3.8567e-01,  4.4785e-02,  2.9013e-01],\n",
            "          [-2.4668e-01,  2.9559e-01,  7.4434e-02],\n",
            "          [-1.3303e-01,  2.2313e-01, -1.7776e-01]]],\n",
            "\n",
            "\n",
            "        [[[ 5.1928e-01,  3.6470e-01,  4.7826e-02],\n",
            "          [-3.4948e-01, -1.3787e-01, -3.4217e-01],\n",
            "          [-3.4744e-01,  9.0876e-02,  1.5328e-01]]],\n",
            "\n",
            "\n",
            "        [[[-3.4829e-01,  1.9328e-01,  3.0561e-01],\n",
            "          [ 2.1604e-01,  3.9331e-02, -2.3134e-01],\n",
            "          [ 2.7408e-01, -3.5262e-01, -4.2176e-02]]],\n",
            "\n",
            "\n",
            "        [[[-1.8001e-01, -4.8107e-01, -2.7968e-01],\n",
            "          [ 3.0700e-02, -1.1196e-01,  5.3968e-01],\n",
            "          [ 8.0571e-02,  3.1254e-01,  2.4197e-01]]]], device='cuda:0')), ('conv1.bias', tensor([ 0.1527, -0.0213, -0.1224, -0.0600,  0.0414, -0.1811, -0.0679,  0.0020,\n",
            "         0.0630, -0.2180, -0.1556,  0.0596, -0.0413,  0.0507, -0.1825,  0.0464,\n",
            "         0.0374, -0.2030,  0.0604,  0.1258,  0.1198, -0.2378,  0.1438, -0.0487,\n",
            "        -0.2620,  0.1493,  0.1411, -0.0219, -0.0546, -0.2164, -0.0430, -0.1872],\n",
            "       device='cuda:0')), ('conv2.weight', tensor([[[[ 0.0741, -0.1162, -0.0016],\n",
            "          [ 0.1297, -0.1719, -0.0665],\n",
            "          [-0.1418,  0.0013,  0.0289]],\n",
            "\n",
            "         [[ 0.0730, -0.0082, -0.1045],\n",
            "          [ 0.1640, -0.0275, -0.0478],\n",
            "          [ 0.0865,  0.0012, -0.0613]],\n",
            "\n",
            "         [[-0.0824, -0.0987,  0.1105],\n",
            "          [-0.0422, -0.1624,  0.0525],\n",
            "          [ 0.0375, -0.2312, -0.2032]],\n",
            "\n",
            "         ...,\n",
            "\n",
            "         [[-0.1546, -0.0688, -0.0587],\n",
            "          [-0.0860, -0.1698,  0.0262],\n",
            "          [ 0.1857, -0.0960,  0.0164]],\n",
            "\n",
            "         [[ 0.0409, -0.0396,  0.0689],\n",
            "          [-0.0547, -0.0066,  0.0004],\n",
            "          [-0.0993, -0.1158, -0.1004]],\n",
            "\n",
            "         [[-0.1868, -0.1036,  0.0049],\n",
            "          [-0.1572, -0.0118, -0.0269],\n",
            "          [-0.0159,  0.0587,  0.1235]]],\n",
            "\n",
            "\n",
            "        [[[-0.0165, -0.0027,  0.0757],\n",
            "          [ 0.0508,  0.0515,  0.0518],\n",
            "          [ 0.1230, -0.0083, -0.1000]],\n",
            "\n",
            "         [[ 0.0583,  0.0392, -0.1200],\n",
            "          [-0.0166, -0.1375, -0.0020],\n",
            "          [-0.0698, -0.0355, -0.0263]],\n",
            "\n",
            "         [[ 0.0028, -0.0624, -0.0626],\n",
            "          [-0.0234, -0.0713, -0.0003],\n",
            "          [ 0.0368,  0.0831,  0.0929]],\n",
            "\n",
            "         ...,\n",
            "\n",
            "         [[-0.0057,  0.0036, -0.0261],\n",
            "          [ 0.0103,  0.0512,  0.0798],\n",
            "          [ 0.0245,  0.0938,  0.1253]],\n",
            "\n",
            "         [[ 0.0327,  0.0765, -0.0060],\n",
            "          [ 0.0014,  0.0712,  0.1723],\n",
            "          [ 0.1396,  0.1310, -0.0461]],\n",
            "\n",
            "         [[-0.0244, -0.0080,  0.1629],\n",
            "          [-0.0284,  0.1063,  0.0317],\n",
            "          [ 0.0944, -0.0659, -0.0309]]],\n",
            "\n",
            "\n",
            "        [[[-0.0244,  0.0461, -0.0298],\n",
            "          [-0.0194,  0.0575, -0.0376],\n",
            "          [-0.0103, -0.0204,  0.0507]],\n",
            "\n",
            "         [[-0.1400,  0.0026, -0.0076],\n",
            "          [-0.0476, -0.0521,  0.0154],\n",
            "          [ 0.0478, -0.0660,  0.0219]],\n",
            "\n",
            "         [[ 0.0787, -0.0973, -0.0226],\n",
            "          [ 0.1295,  0.1379, -0.1074],\n",
            "          [-0.0693, -0.0868, -0.0270]],\n",
            "\n",
            "         ...,\n",
            "\n",
            "         [[ 0.0759, -0.0099, -0.1409],\n",
            "          [ 0.0838,  0.1963,  0.0961],\n",
            "          [-0.0003, -0.0596,  0.0739]],\n",
            "\n",
            "         [[-0.0019, -0.0036,  0.1071],\n",
            "          [ 0.2323,  0.1158, -0.0560],\n",
            "          [-0.0051,  0.1327,  0.1025]],\n",
            "\n",
            "         [[ 0.0444, -0.0275, -0.2387],\n",
            "          [ 0.0034, -0.1666, -0.0160],\n",
            "          [ 0.0714,  0.0982,  0.0834]]],\n",
            "\n",
            "\n",
            "        ...,\n",
            "\n",
            "\n",
            "        [[[-0.1015,  0.0593,  0.0401],\n",
            "          [-0.0768, -0.2354, -0.0466],\n",
            "          [-0.0289,  0.0765, -0.0736]],\n",
            "\n",
            "         [[-0.1610, -0.0338,  0.0317],\n",
            "          [-0.0546, -0.0938, -0.0402],\n",
            "          [-0.0239, -0.0776, -0.0707]],\n",
            "\n",
            "         [[-0.0243,  0.0962,  0.0817],\n",
            "          [-0.0606,  0.1282,  0.2122],\n",
            "          [-0.1527, -0.2545, -0.0759]],\n",
            "\n",
            "         ...,\n",
            "\n",
            "         [[-0.1750, -0.0940,  0.0210],\n",
            "          [-0.1315,  0.0231,  0.1221],\n",
            "          [-0.0448, -0.0552,  0.0117]],\n",
            "\n",
            "         [[-0.0567, -0.0231, -0.0254],\n",
            "          [ 0.0547,  0.1469,  0.0072],\n",
            "          [-0.0197, -0.0503,  0.1356]],\n",
            "\n",
            "         [[-0.1365, -0.0872, -0.0292],\n",
            "          [-0.0852, -0.2149, -0.1735],\n",
            "          [ 0.2312,  0.1571,  0.1178]]],\n",
            "\n",
            "\n",
            "        [[[-0.0770, -0.0209, -0.0372],\n",
            "          [-0.1964, -0.0225, -0.0106],\n",
            "          [ 0.0515,  0.0267, -0.0076]],\n",
            "\n",
            "         [[ 0.1094, -0.0849,  0.0141],\n",
            "          [-0.0106,  0.0295,  0.0020],\n",
            "          [-0.0806, -0.0676, -0.0966]],\n",
            "\n",
            "         [[-0.0371, -0.1212, -0.1362],\n",
            "          [-0.0732, -0.1866, -0.2079],\n",
            "          [-0.2307,  0.0456,  0.0048]],\n",
            "\n",
            "         ...,\n",
            "\n",
            "         [[-0.0717, -0.1144, -0.1629],\n",
            "          [ 0.1081, -0.0251, -0.0248],\n",
            "          [-0.1336, -0.0424, -0.0946]],\n",
            "\n",
            "         [[ 0.0409, -0.0940, -0.1590],\n",
            "          [-0.0192, -0.0750, -0.1425],\n",
            "          [-0.0973, -0.0249, -0.0556]],\n",
            "\n",
            "         [[-0.0734, -0.0177, -0.0893],\n",
            "          [ 0.0438,  0.0098, -0.0118],\n",
            "          [ 0.2016,  0.1266,  0.1173]]],\n",
            "\n",
            "\n",
            "        [[[-0.0551,  0.0158, -0.0490],\n",
            "          [-0.0762, -0.0850, -0.0484],\n",
            "          [-0.1462, -0.2747, -0.1679]],\n",
            "\n",
            "         [[-0.1279, -0.0116, -0.1415],\n",
            "          [-0.0921,  0.0254, -0.0118],\n",
            "          [-0.0575, -0.1319, -0.0511]],\n",
            "\n",
            "         [[ 0.0251, -0.0295, -0.1235],\n",
            "          [-0.0494,  0.0264,  0.0909],\n",
            "          [-0.0602,  0.1264,  0.1424]],\n",
            "\n",
            "         ...,\n",
            "\n",
            "         [[-0.0406,  0.0709,  0.0636],\n",
            "          [ 0.0149, -0.0225,  0.0008],\n",
            "          [-0.0292,  0.0159,  0.1227]],\n",
            "\n",
            "         [[ 0.0542, -0.0520,  0.0383],\n",
            "          [-0.0376, -0.0940, -0.0266],\n",
            "          [-0.1248,  0.0810,  0.0872]],\n",
            "\n",
            "         [[-0.0755,  0.0288,  0.0882],\n",
            "          [-0.2426,  0.0310,  0.1125],\n",
            "          [-0.2246, -0.2456, -0.0715]]]], device='cuda:0')), ('conv2.bias', tensor([-0.0348, -0.0797, -0.0841,  0.0516, -0.0785, -0.1006, -0.0465, -0.0635,\n",
            "        -0.0963, -0.0898, -0.0388, -0.0708, -0.0685, -0.0849,  0.0152, -0.0545,\n",
            "        -0.0855, -0.0995, -0.0249, -0.0728, -0.0592, -0.0465,  0.0377, -0.0524,\n",
            "        -0.0684, -0.0085, -0.0180, -0.0320,  0.0266,  0.0266, -0.1310, -0.0486,\n",
            "        -0.0699, -0.0232, -0.0882, -0.0705, -0.0769, -0.0383, -0.0511, -0.0348,\n",
            "        -0.0088, -0.0303, -0.0585,  0.0074,  0.0196, -0.1162, -0.1162, -0.0342,\n",
            "         0.0221, -0.0193, -0.0492,  0.0009,  0.0134, -0.0644, -0.0679, -0.0738,\n",
            "         0.0168, -0.0618, -0.0316,  0.0171, -0.0333, -0.0205, -0.0364, -0.0375],\n",
            "       device='cuda:0')), ('fc1.weight', tensor([[-0.0297, -0.0233, -0.0277,  ...,  0.0009,  0.0086, -0.0281],\n",
            "        [ 0.0029, -0.0109, -0.0233,  ..., -0.0160,  0.0040,  0.0042],\n",
            "        [-0.0015,  0.0211, -0.0167,  ...,  0.0048,  0.0293,  0.0101],\n",
            "        ...,\n",
            "        [ 0.0240,  0.0122,  0.0231,  ...,  0.0303,  0.0125,  0.0008],\n",
            "        [-0.0012,  0.0318, -0.0005,  ..., -0.0208,  0.0026, -0.0091],\n",
            "        [ 0.0012, -0.0201,  0.0039,  ...,  0.0170,  0.0034,  0.0073]],\n",
            "       device='cuda:0')), ('fc1.bias', tensor([ 2.9336e-03, -8.7792e-03, -4.5612e-03,  2.2426e-02, -2.6127e-02,\n",
            "        -4.6501e-02,  2.7646e-03, -8.2343e-03,  1.6388e-02, -4.4500e-04,\n",
            "        -7.8121e-03,  1.4863e-02, -1.2319e-02,  5.0281e-02, -1.7450e-03,\n",
            "        -1.4593e-02,  7.0943e-02, -2.3914e-02,  1.0953e-02,  2.8241e-03,\n",
            "         8.8154e-03,  5.7620e-03, -2.9865e-02, -5.1068e-02,  4.1953e-03,\n",
            "        -1.6609e-02,  4.5401e-02, -1.0888e-02, -5.0139e-04, -8.6945e-03,\n",
            "        -9.4067e-03, -3.6093e-02,  2.0230e-02, -1.2005e-02, -1.1872e-02,\n",
            "        -3.6882e-02,  3.5303e-02,  1.0973e-02, -1.2344e-02,  1.1033e-02,\n",
            "        -2.3164e-02,  5.9466e-03,  2.5363e-02,  7.3019e-03,  1.4624e-02,\n",
            "        -2.3989e-02, -6.9292e-03, -1.2400e-02,  3.9257e-03,  1.3059e-02,\n",
            "         1.5557e-03, -1.8477e-02,  7.1839e-03, -9.7369e-03,  3.3651e-03,\n",
            "         3.7097e-03, -1.6199e-02,  2.2150e-02, -1.5928e-02, -7.9021e-03,\n",
            "         3.4736e-03, -1.4918e-02,  8.6156e-03, -1.0953e-02,  9.3791e-03,\n",
            "         6.9413e-03,  3.3840e-02, -1.5299e-02,  1.7372e-02, -3.3723e-02,\n",
            "         7.8663e-03,  2.2295e-02, -1.3606e-03, -1.7624e-02, -5.2815e-03,\n",
            "        -2.1131e-02,  2.4402e-02,  2.1633e-02, -1.6121e-02, -6.3032e-02,\n",
            "         5.1372e-03, -8.6143e-03,  4.4088e-02, -4.6538e-04,  6.5211e-02,\n",
            "        -7.1453e-03, -4.9901e-03,  3.8824e-02, -1.6846e-02, -8.6486e-03,\n",
            "        -3.3647e-02,  1.2589e-02,  1.7664e-02, -3.9281e-03,  1.4220e-02,\n",
            "        -2.7375e-02,  1.1161e-02, -6.2880e-03,  5.3143e-03,  3.3165e-02,\n",
            "        -1.7365e-02, -4.4019e-02, -1.7235e-02,  3.2565e-03, -1.7294e-02,\n",
            "         1.7922e-03,  2.8753e-03,  6.1660e-03, -2.8485e-03,  4.1937e-03,\n",
            "        -1.3333e-02, -9.3777e-03, -2.1811e-02,  8.2199e-03, -2.3633e-03,\n",
            "         2.1744e-02, -2.4730e-03,  1.4508e-02, -1.1684e-03, -7.4526e-03,\n",
            "         1.4398e-02,  3.4988e-03, -1.2000e-02,  2.7436e-02,  7.8102e-06,\n",
            "        -1.8110e-02,  3.3508e-02,  8.3684e-03], device='cuda:0')), ('fc2.weight', tensor([[-0.0848,  0.0778, -0.1548,  ...,  0.0247, -0.0411, -0.0474],\n",
            "        [-0.0573, -0.0881, -0.1517,  ..., -0.0924,  0.1388, -0.0448],\n",
            "        [-0.0548,  0.0543,  0.0895,  ..., -0.1232,  0.1228, -0.0734],\n",
            "        ...,\n",
            "        [-0.0758, -0.0009,  0.0559,  ..., -0.2012,  0.1582,  0.0428],\n",
            "        [ 0.0794,  0.0122, -0.0636,  ...,  0.0022, -0.3073, -0.0546],\n",
            "        [-0.0263,  0.0128,  0.0799,  ...,  0.1177, -0.1152, -0.0204]],\n",
            "       device='cuda:0')), ('fc2.bias', tensor([-0.0414, -0.0184,  0.0465,  0.0133, -0.0734,  0.0845, -0.0368, -0.0763,\n",
            "         0.0632, -0.0373], device='cuda:0'))])\n"
          ]
        }
      ]
    },
    {
      "cell_type": "markdown",
      "source": [
        "**Model Conversion**"
      ],
      "metadata": {
        "id": "VNXqteNseyAF"
      }
    },
    {
      "cell_type": "code",
      "source": [
        "cpu_model = OCRModel(num_classes=10)  # Create a new model instance on CPU\n",
        "cpu_model.load_state_dict(gpu_model)  # Load the state dictionary from the GPU model\n",
        "cpu_model.eval()  # Set the model to evaluation mode\n"
      ],
      "metadata": {
        "colab": {
          "base_uri": "https://localhost:8080/"
        },
        "id": "813N2xPResu3",
        "outputId": "deb01c12-5d6d-4383-cb30-2fabbca9b25e"
      },
      "execution_count": 6,
      "outputs": [
        {
          "output_type": "execute_result",
          "data": {
            "text/plain": [
              "OCRModel(\n",
              "  (conv1): Conv2d(1, 32, kernel_size=(3, 3), stride=(1, 1), padding=(1, 1))\n",
              "  (conv2): Conv2d(32, 64, kernel_size=(3, 3), stride=(1, 1), padding=(1, 1))\n",
              "  (pool): MaxPool2d(kernel_size=2, stride=2, padding=0, dilation=1, ceil_mode=False)\n",
              "  (fc1): Linear(in_features=3136, out_features=128, bias=True)\n",
              "  (fc2): Linear(in_features=128, out_features=10, bias=True)\n",
              ")"
            ]
          },
          "metadata": {},
          "execution_count": 6
        }
      ]
    },
    {
      "cell_type": "code",
      "source": [
        "import time\n",
        "\n",
        "# Evaluate GPU model\n",
        "start_time = time.time()\n",
        "correct_gpu = 0\n",
        "total_gpu = 0\n",
        "with torch.no_grad():\n",
        "    for images, labels in train_loader:\n",
        "        images, labels = images.to(device), labels.to(device)\n",
        "        outputs = model(images)\n",
        "        _, predicted = torch.max(outputs.data, 1)\n",
        "        total_gpu += labels.size(0)\n",
        "        correct_gpu += (predicted == labels).sum().item()\n",
        "\n",
        "accuracy_gpu = 100 * correct_gpu / total_gpu\n",
        "end_time = time.time()\n",
        "fps_gpu = len(train_loader.dataset) / (end_time - start_time)\n",
        "\n",
        "print('Accuracy of the GPU-based OCR model on the test images: {} %'.format(accuracy_gpu))\n",
        "print('Frames per second (GPU): {:.2f}'.format(fps_gpu))\n",
        "\n",
        "# Evaluate CPU model\n",
        "start_time = time.time()\n",
        "correct_cpu = 0\n",
        "total_cpu = 0\n",
        "with torch.no_grad():\n",
        "    for images, labels in train_loader:\n",
        "        outputs = cpu_model(images)\n",
        "        _, predicted = torch.max(outputs.data, 1)\n",
        "        total_cpu += labels.size(0)\n",
        "        correct_cpu += (predicted == labels).sum().item()\n",
        "\n",
        "accuracy_cpu = 100 * correct_cpu / total_cpu\n",
        "end_time = time.time()\n",
        "fps_cpu = len(train_loader.dataset) / (end_time - start_time)\n",
        "\n",
        "print('Accuracy of the CPU-based OCR model on the test images: {} %'.format(accuracy_cpu))\n",
        "print('Frames per second (CPU): {:.2f}'.format(fps_cpu))\n"
      ],
      "metadata": {
        "colab": {
          "base_uri": "https://localhost:8080/"
        },
        "id": "ZZYQdZBMe_qh",
        "outputId": "befe24a7-f296-4fe3-b6fe-ae1a68618361"
      },
      "execution_count": 7,
      "outputs": [
        {
          "output_type": "stream",
          "name": "stdout",
          "text": [
            "Accuracy of the GPU-based OCR model on the test images: 99.69 %\n",
            "Frames per second (GPU): 4773.30\n",
            "Accuracy of the CPU-based OCR model on the test images: 99.69 %\n",
            "Frames per second (CPU): 1521.91\n"
          ]
        }
      ]
    },
    {
      "cell_type": "markdown",
      "source": [
        "**Performance Evaluation**"
      ],
      "metadata": {
        "id": "OsA3hpSrfk3V"
      }
    },
    {
      "cell_type": "code",
      "source": [
        "import psutil\n",
        "\n",
        "\n",
        "# **Performance Comparison**\n",
        "\n",
        "print(\"\\nPerformance Comparison:\")\n",
        "print(\"---------------------\")\n",
        "print(f\"GPU Accuracy: {accuracy_gpu:.2f}%\")\n",
        "print(f\"CPU Accuracy: {accuracy_cpu:.2f}%\")\n",
        "print(f\"GPU Speed (FPS): {fps_gpu:.2f}\")\n",
        "print(f\"CPU Speed (FPS): {fps_cpu:.2f}\")\n",
        "\n",
        "# Resource Utilization\n",
        "gpu_memory_used = torch.cuda.memory_allocated(device) / (1024 ** 2)  # In MB\n",
        "cpu_percent = psutil.cpu_percent()\n",
        "cpu_memory_percent = psutil.virtual_memory().percent\n",
        "\n",
        "print(f\"GPU Memory Used: {gpu_memory_used:.2f} MB\")\n",
        "print(f\"CPU Utilization: {cpu_percent}%\")\n",
        "print(f\"CPU Memory Used: {cpu_memory_percent}%\")\n"
      ],
      "metadata": {
        "colab": {
          "base_uri": "https://localhost:8080/"
        },
        "id": "xkSiZxXifRZ9",
        "outputId": "7a8a0c1f-179e-427f-ad06-a78874ef05e1"
      },
      "execution_count": 8,
      "outputs": [
        {
          "output_type": "stream",
          "name": "stdout",
          "text": [
            "\n",
            "Performance Comparison:\n",
            "---------------------\n",
            "GPU Accuracy: 99.69%\n",
            "CPU Accuracy: 99.69%\n",
            "GPU Speed (FPS): 4773.30\n",
            "CPU Speed (FPS): 1521.91\n",
            "GPU Memory Used: 24.99 MB\n",
            "CPU Utilization: 33.7%\n",
            "CPU Memory Used: 17.4%\n"
          ]
        }
      ]
    },
    {
      "cell_type": "code",
      "source": [
        "import matplotlib.pyplot as plt\n",
        "\n",
        "# Accuracy Comparison\n",
        "plt.figure(figsize=(5, 6))\n",
        "plt.bar([\"GPU\", \"CPU\"], [accuracy_gpu, accuracy_cpu], color=['blue', 'orange'])\n",
        "plt.xlabel(\"Device\")\n",
        "plt.ylabel(\"Accuracy (%)\")\n",
        "plt.title(\"Accuracy Comparison: GPU vs CPU\")\n",
        "plt.ylim(90, 100)  # Adjust y-axis limits as needed\n",
        "plt.show()\n",
        "\n",
        "# Speed (FPS) Comparison\n",
        "plt.figure(figsize=(5, 6))\n",
        "plt.bar([\"GPU\", \"CPU\"], [fps_gpu, fps_cpu], color=['green', 'red'])\n",
        "plt.xlabel(\"Device\")\n",
        "plt.ylabel(\"Frames per Second (FPS)\")\n",
        "plt.title(\"Speed Comparison: GPU vs CPU\")\n",
        "plt.show()\n",
        "\n",
        "# Memory Usage Comparison\n",
        "plt.figure(figsize=(5, 6))\n",
        "# Use the variable you already defined for GPU memory usage\n",
        "plt.bar([\"GPU\", \"CPU\"], [gpu_memory_used, cpu_memory_percent], color=['purple', 'brown'])\n",
        "plt.xlabel(\"Device\")\n",
        "plt.ylabel(\"Memory Usage (MB)\")\n",
        "plt.title(\"Memory Usage Comparison: GPU vs CPU\")\n",
        "plt.show()"
      ],
      "metadata": {
        "colab": {
          "base_uri": "https://localhost:8080/",
          "height": 1000
        },
        "id": "b9YYlzvnfogp",
        "outputId": "cef143c9-9a33-49df-fbf5-04a8ab0c1f69"
      },
      "execution_count": 10,
      "outputs": [
        {
          "output_type": "display_data",
          "data": {
            "text/plain": [
              "<Figure size 500x600 with 1 Axes>"
            ],
            "image/png": "[encoded data removed]"
          },
          "metadata": {}
        },
        {
          "output_type": "display_data",
          "data": {
            "text/plain": [
              "<Figure size 500x600 with 1 Axes>"
            ],
            "image/png": "[encoded data removed]"
          },
          "metadata": {}
        },
        {
          "output_type": "display_data",
          "data": {
            "text/plain": [
              "<Figure size 500x600 with 1 Axes>"
            ],
            "image/png": "[encoded data removed]"
          },
          "metadata": {}
        }
      ]
    },
    {
      "cell_type": "code",
      "source": [
        "# display the GPU and CPU processing time in both models\n",
        "\n",
        "# Evaluate GPU model\n",
        "start_time_gpu = time.time()\n",
        "correct_gpu = 0\n",
        "total_gpu = 0\n",
        "with torch.no_grad():\n",
        "    for images, labels in train_loader:\n",
        "        images, labels = images.to(device), labels.to(device)\n",
        "        outputs = model(images)\n",
        "        _, predicted = torch.max(outputs.data, 1)\n",
        "        total_gpu += labels.size(0)\n",
        "        correct_gpu += (predicted == labels).sum().item()\n",
        "\n",
        "accuracy_gpu = 100 * correct_gpu / total_gpu\n",
        "end_time_gpu = time.time()\n",
        "fps_gpu = len(train_loader.dataset) / (end_time_gpu - start_time_gpu)\n",
        "gpu_processing_time = end_time_gpu - start_time_gpu\n",
        "\n",
        "print('Accuracy of the GPU-based OCR model on the test images: {} %'.format(accuracy_gpu))\n",
        "print('Frames per second (GPU): {:.2f}'.format(fps_gpu))\n",
        "print('GPU Processing Time: {:.4f} seconds'.format(gpu_processing_time))\n",
        "\n",
        "# Evaluate CPU model\n",
        "start_time_cpu = time.time()\n",
        "correct_cpu = 0\n",
        "total_cpu = 0\n",
        "with torch.no_grad():\n",
        "    for images, labels in train_loader:\n",
        "        outputs = cpu_model(images)\n",
        "        _, predicted = torch.max(outputs.data, 1)\n",
        "        total_cpu += labels.size(0)\n",
        "        correct_cpu += (predicted == labels).sum().item()\n",
        "\n",
        "accuracy_cpu = 100 * correct_cpu / total_cpu\n",
        "end_time_cpu = time.time()\n",
        "fps_cpu = len(train_loader.dataset) / (end_time_cpu - start_time_cpu)\n",
        "cpu_processing_time = end_time_cpu - start_time_cpu\n",
        "\n",
        "print('Accuracy of the CPU-based OCR model on the test images: {} %'.format(accuracy_cpu))\n",
        "print('Frames per second (CPU): {:.2f}'.format(fps_cpu))\n",
        "print('CPU Processing Time: {:.4f} seconds'.format(cpu_processing_time))\n"
      ],
      "metadata": {
        "colab": {
          "base_uri": "https://localhost:8080/"
        },
        "id": "pDeNobX3f9XB",
        "outputId": "21ef2787-8910-4622-f7c0-2afa962c1726"
      },
      "execution_count": 11,
      "outputs": [
        {
          "output_type": "stream",
          "name": "stdout",
          "text": [
            "Accuracy of the GPU-based OCR model on the test images: 99.69 %\n",
            "Frames per second (GPU): 4696.19\n",
            "GPU Processing Time: 12.7763 seconds\n",
            "Accuracy of the CPU-based OCR model on the test images: 99.69 %\n",
            "Frames per second (CPU): 1740.61\n",
            "CPU Processing Time: 34.4707 seconds\n"
          ]
        }
      ]
    },
    {
      "cell_type": "code",
      "source": [
        "#display the processing time for both models in a subplot model\n",
        "\n",
        "import matplotlib.pyplot as plt\n",
        "# Processing Time Comparison\n",
        "plt.figure(figsize=(8, 6))\n",
        "\n",
        "plt.subplot(1, 2, 1)\n",
        "plt.bar([\"GPU\"], [gpu_processing_time], color=['blue'])\n",
        "plt.ylabel(\"Processing Time (seconds)\")\n",
        "plt.title(\"GPU Processing Time\")\n",
        "\n",
        "plt.subplot(1, 2, 2)\n",
        "plt.bar([\"CPU\"], [cpu_processing_time], color=['orange'])\n",
        "plt.ylabel(\"Processing Time (seconds)\")\n",
        "plt.title(\"CPU Processing Time\")\n",
        "\n",
        "plt.tight_layout()\n",
        "plt.show()\n"
      ],
      "metadata": {
        "colab": {
          "base_uri": "https://localhost:8080/",
          "height": 607
        },
        "id": "eO6rXuNVgQ17",
        "outputId": "f815e4bd-24e8-44d5-fa1b-12d173d5a002"
      },
      "execution_count": 12,
      "outputs": [
        {
          "output_type": "display_data",
          "data": {
            "text/plain": [
              "<Figure size 800x600 with 2 Axes>"
            ],
            "image/png": "[encoded data removed]"
          },
          "metadata": {}
        }
      ]
    }
  ]
}